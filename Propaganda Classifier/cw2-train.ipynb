{
 "cells": [
  {
   "cell_type": "markdown",
   "metadata": {},
   "source": [
    "# **Coursework 1: Train a Propaganda Sentence Classifier**\n",
    "In this course work, you are asked to train a sentiment analysis classifier for movie reviews. The sample code below builds a simple classifier that uses tf-idf to vectorize text and a logistic regression model to make predictions."
   ]
  },
  {
   "cell_type": "markdown",
   "metadata": {},
   "source": [
    "## **Table of Contents**\n",
    "\n",
    " 1. [Introduction](#1)\n",
    "\n",
    "\n",
    " 2. [Initial Analysis](#2)  \n",
    " \n",
    " \n",
    " 3. [Cleaning](#3)  \n",
    " \n",
    "     i. [Removing Punctuations](#3a)  \n",
    "     ii. [Sequence Analysis](#3b)\n",
    " \n",
    "\n",
    " 4. [Data Split & Vectorizer](#4)\n",
    " \n",
    "     i. [Train-Text Split](#4a)  \n",
    "     ii. [Tf-Idf Vectorizer](#4b)  \n",
    "     iii. [Word-to-Vec](#4c)  \n",
    "\n",
    "\n",
    " 5. [Neural Network Architectures](#5)  \n",
    " \n",
    " i. [Simple DNN](#5a)  \n",
    " ii. [RNN (Recurrent Neural Network)](#5c)  \n",
    "     - [Basic RNN](#5c1)\n",
    "     - [LSTM](#5c2)\n",
    "     - [Bi-LSTM](#5c3)\n",
    "     - [Bi-GRU](#5c4)\n",
    "     \n",
    " iii. [CNN (Convolutional Neural Network)](#5b)  \n",
    " iv. [Convolutional Recurrent Neural Network with pre-trained embeddings](#5d)  \n",
    " v. [Custom Embeddings Convolutional Recurrent Neural Network](#5e)  \n",
    "\n",
    "\n",
    "\n",
    " 6. [Final Model Build](#6)"
   ]
  },
  {
   "cell_type": "markdown",
   "metadata": {},
   "source": [
    "<a id=\"1\"></a>\n",
    "## **1. Introduction**"
   ]
  },
  {
   "cell_type": "markdown",
   "metadata": {},
   "source": [
    "This purpose of this assignment is to build a scentence propaganda classifier for movie reviews, which can take a piece of scentence as input and predict where the scentence consists any propaganda or not (prpoaganda or non-propaganda). This report explains the analysis of the dataset, the feature seleections method and final model building procedure using one of many algorithms. The overall process is implemented in Python."
   ]
  },
  {
   "cell_type": "code",
   "execution_count": 1,
   "metadata": {},
   "outputs": [],
   "source": [
    "import numpy as np\n",
    "import pandas as pd\n",
    "import torch\n",
    "import torch.nn as nn\n",
    "from torch.utils.data import TensorDataset, DataLoader\n",
    "from torch.utils.tensorboard import SummaryWriter\n",
    "from sklearn.utils import shuffle\n",
    "from tqdm import tqdm, notebook\n",
    "\n",
    "from sklearn.metrics import precision_recall_fscore_support, accuracy_score\n",
    "from sklearn.utils import shuffle\n",
    "from collections import Counter\n",
    "import matplotlib.pyplot as plt\n",
    "\n",
    "from sklearn.feature_extraction.text import TfidfVectorizer\n",
    "from sklearn.linear_model import LogisticRegression\n",
    "from sklearn.naive_bayes import GaussianNB\n",
    "from sklearn.metrics import precision_recall_fscore_support,accuracy_score\n",
    "\n",
    "from wordcloud import WordCloud, STOPWORDS, ImageColorGenerator\n",
    "import matplotlib.pyplot as plt\n",
    "\n",
    "import copy\n",
    "import warnings\n",
    "warnings.filterwarnings(\"ignore\")\n",
    "\n",
    "%matplotlib inline\n",
    "plt.style.use('ggplot')"
   ]
  },
  {
   "cell_type": "markdown",
   "metadata": {},
   "source": [
    "<a id=\"2\"></a>\n",
    "## **2. Initial Analysis**"
   ]
  },
  {
   "cell_type": "code",
   "execution_count": 2,
   "metadata": {},
   "outputs": [
    {
     "data": {
      "text/html": [
       "<div>\n",
       "<style scoped>\n",
       "    .dataframe tbody tr th:only-of-type {\n",
       "        vertical-align: middle;\n",
       "    }\n",
       "\n",
       "    .dataframe tbody tr th {\n",
       "        vertical-align: top;\n",
       "    }\n",
       "\n",
       "    .dataframe thead th {\n",
       "        text-align: right;\n",
       "    }\n",
       "</style>\n",
       "<table border=\"1\" class=\"dataframe\">\n",
       "  <thead>\n",
       "    <tr style=\"text-align: right;\">\n",
       "      <th></th>\n",
       "      <th>article_id</th>\n",
       "      <th>article_title</th>\n",
       "      <th>label</th>\n",
       "      <th>sentence_text</th>\n",
       "    </tr>\n",
       "  </thead>\n",
       "  <tbody>\n",
       "    <tr>\n",
       "      <th>8756</th>\n",
       "      <td>763440871</td>\n",
       "      <td>MAJOR NEW STUDY: Homeschooling Spikes Due to S...</td>\n",
       "      <td>non-propaganda</td>\n",
       "      <td>We have a daughter still in high school and th...</td>\n",
       "    </tr>\n",
       "    <tr>\n",
       "      <th>1756</th>\n",
       "      <td>728343601</td>\n",
       "      <td>Chile 'cover-up' letter contradicts Pope</td>\n",
       "      <td>propaganda</td>\n",
       "      <td>In that letter, Mr Cruz accuses Bishop Barros ...</td>\n",
       "    </tr>\n",
       "    <tr>\n",
       "      <th>7904</th>\n",
       "      <td>780786973</td>\n",
       "      <td>Mueller is ‘looking for trouble,’ Trump says c...</td>\n",
       "      <td>non-propaganda</td>\n",
       "      <td>Mueller also is looking at whether some of Tru...</td>\n",
       "    </tr>\n",
       "    <tr>\n",
       "      <th>174</th>\n",
       "      <td>727493378</td>\n",
       "      <td>Coroner Defies Court Order: Won't Release Las ...</td>\n",
       "      <td>propaganda</td>\n",
       "      <td>Seriously, it's been four months already!</td>\n",
       "    </tr>\n",
       "    <tr>\n",
       "      <th>5604</th>\n",
       "      <td>738207834</td>\n",
       "      <td>Et Tu, Benedict?</td>\n",
       "      <td>non-propaganda</td>\n",
       "      <td>Don’t we all want to know why Hans Kung is sti...</td>\n",
       "    </tr>\n",
       "    <tr>\n",
       "      <th>...</th>\n",
       "      <td>...</td>\n",
       "      <td>...</td>\n",
       "      <td>...</td>\n",
       "      <td>...</td>\n",
       "    </tr>\n",
       "    <tr>\n",
       "      <th>5613</th>\n",
       "      <td>738207834</td>\n",
       "      <td>Et Tu, Benedict?</td>\n",
       "      <td>propaganda</td>\n",
       "      <td>Maike Hickson quotes him, writing of this biza...</td>\n",
       "    </tr>\n",
       "    <tr>\n",
       "      <th>11010</th>\n",
       "      <td>723844295</td>\n",
       "      <td>Lawmaker makes shocking claim about the Vegas ...</td>\n",
       "      <td>non-propaganda</td>\n",
       "      <td>ISIS terrorists, he said, infiltrated the U.S....</td>\n",
       "    </tr>\n",
       "    <tr>\n",
       "      <th>11407</th>\n",
       "      <td>777488669</td>\n",
       "      <td>The Death Penalty, Instituted by God Himself (...</td>\n",
       "      <td>non-propaganda</td>\n",
       "      <td>If his contrition is perfect, it’s conceivable...</td>\n",
       "    </tr>\n",
       "    <tr>\n",
       "      <th>4949</th>\n",
       "      <td>728972961</td>\n",
       "      <td>FOR THE FIRST TIME ONLINE: Archbishop Lefebvre...</td>\n",
       "      <td>non-propaganda</td>\n",
       "      <td>FOR THE FIRST TIME ONLINE: Archbishop Lefebvre...</td>\n",
       "    </tr>\n",
       "    <tr>\n",
       "      <th>6364</th>\n",
       "      <td>787668628</td>\n",
       "      <td>Democrats Want Us To Believe All Women…Unless ...</td>\n",
       "      <td>propaganda</td>\n",
       "      <td>This is clearly a set-up (Christine Ford is al...</td>\n",
       "    </tr>\n",
       "  </tbody>\n",
       "</table>\n",
       "<p>11464 rows × 4 columns</p>\n",
       "</div>"
      ],
      "text/plain": [
       "       article_id                                      article_title  \\\n",
       "8756    763440871  MAJOR NEW STUDY: Homeschooling Spikes Due to S...   \n",
       "1756    728343601           Chile 'cover-up' letter contradicts Pope   \n",
       "7904    780786973  Mueller is ‘looking for trouble,’ Trump says c...   \n",
       "174     727493378  Coroner Defies Court Order: Won't Release Las ...   \n",
       "5604    738207834                                   Et Tu, Benedict?   \n",
       "...           ...                                                ...   \n",
       "5613    738207834                                   Et Tu, Benedict?   \n",
       "11010   723844295  Lawmaker makes shocking claim about the Vegas ...   \n",
       "11407   777488669  The Death Penalty, Instituted by God Himself (...   \n",
       "4949    728972961  FOR THE FIRST TIME ONLINE: Archbishop Lefebvre...   \n",
       "6364    787668628  Democrats Want Us To Believe All Women…Unless ...   \n",
       "\n",
       "                label                                      sentence_text  \n",
       "8756   non-propaganda  We have a daughter still in high school and th...  \n",
       "1756       propaganda  In that letter, Mr Cruz accuses Bishop Barros ...  \n",
       "7904   non-propaganda  Mueller also is looking at whether some of Tru...  \n",
       "174        propaganda          Seriously, it's been four months already!  \n",
       "5604   non-propaganda  Don’t we all want to know why Hans Kung is sti...  \n",
       "...               ...                                                ...  \n",
       "5613       propaganda  Maike Hickson quotes him, writing of this biza...  \n",
       "11010  non-propaganda  ISIS terrorists, he said, infiltrated the U.S....  \n",
       "11407  non-propaganda  If his contrition is perfect, it’s conceivable...  \n",
       "4949   non-propaganda  FOR THE FIRST TIME ONLINE: Archbishop Lefebvre...  \n",
       "6364       propaganda  This is clearly a set-up (Christine Ford is al...  \n",
       "\n",
       "[11464 rows x 4 columns]"
      ]
     },
     "execution_count": 2,
     "metadata": {},
     "output_type": "execute_result"
    }
   ],
   "source": [
    "# load data\n",
    "df = pd.read_table('coursework2_train.tsv')\n",
    "df = shuffle(df) # randomly shuffle data entries \n",
    "df"
   ]
  },
  {
   "cell_type": "code",
   "execution_count": 3,
   "metadata": {},
   "outputs": [
    {
     "data": {
      "image/png": "[encoded data removed]",
      "text/plain": [
       "<Figure size 720x720 with 1 Axes>"
      ]
     },
     "metadata": {},
     "output_type": "display_data"
    }
   ],
   "source": [
    "_ = df['label'].value_counts().plot.bar(figsize=(10, 10))\n",
    "plt.title('Total Number of Propaganda and Non-Propaganda statements');"
   ]
  },
  {
   "cell_type": "markdown",
   "metadata": {},
   "source": [
    "From the above plot we can clearly see that the number of non-propaganda statements are higher than the number of propaganda statements."
   ]
  },
  {
   "cell_type": "markdown",
   "metadata": {},
   "source": [
    "Checking the number of unique articles present in the dataset"
   ]
  },
  {
   "cell_type": "code",
   "execution_count": 4,
   "metadata": {},
   "outputs": [
    {
     "name": "stdout",
     "output_type": "stream",
     "text": [
      "Total number of unique Article Titles\t 230\n",
      "Total number of unique Article ID's\t 233\n"
     ]
    },
    {
     "data": {
      "text/html": [
       "<div>\n",
       "<style scoped>\n",
       "    .dataframe tbody tr th:only-of-type {\n",
       "        vertical-align: middle;\n",
       "    }\n",
       "\n",
       "    .dataframe tbody tr th {\n",
       "        vertical-align: top;\n",
       "    }\n",
       "\n",
       "    .dataframe thead th {\n",
       "        text-align: right;\n",
       "    }\n",
       "</style>\n",
       "<table border=\"1\" class=\"dataframe\">\n",
       "  <thead>\n",
       "    <tr style=\"text-align: right;\">\n",
       "      <th></th>\n",
       "      <th>index</th>\n",
       "      <th>article_title</th>\n",
       "    </tr>\n",
       "  </thead>\n",
       "  <tbody>\n",
       "    <tr>\n",
       "      <th>0</th>\n",
       "      <td>FOR THE FIRST TIME ONLINE: Archbishop Lefebvre...</td>\n",
       "      <td>428</td>\n",
       "    </tr>\n",
       "    <tr>\n",
       "      <th>1</th>\n",
       "      <td>Archbishop Viganò Speaks, the Neo-Catholics Panic</td>\n",
       "      <td>231</td>\n",
       "    </tr>\n",
       "    <tr>\n",
       "      <th>2</th>\n",
       "      <td>A Dismal Record: Why Are They Destroying the N...</td>\n",
       "      <td>222</td>\n",
       "    </tr>\n",
       "    <tr>\n",
       "      <th>3</th>\n",
       "      <td>Pope Francis vs Contemplative Orders</td>\n",
       "      <td>207</td>\n",
       "    </tr>\n",
       "    <tr>\n",
       "      <th>4</th>\n",
       "      <td>SPECIAL REPORT: Papal Cover-up Alleged, Pope A...</td>\n",
       "      <td>189</td>\n",
       "    </tr>\n",
       "  </tbody>\n",
       "</table>\n",
       "</div>"
      ],
      "text/plain": [
       "                                               index  article_title\n",
       "0  FOR THE FIRST TIME ONLINE: Archbishop Lefebvre...            428\n",
       "1  Archbishop Viganò Speaks, the Neo-Catholics Panic            231\n",
       "2  A Dismal Record: Why Are They Destroying the N...            222\n",
       "3               Pope Francis vs Contemplative Orders            207\n",
       "4  SPECIAL REPORT: Papal Cover-up Alleged, Pope A...            189"
      ]
     },
     "execution_count": 4,
     "metadata": {},
     "output_type": "execute_result"
    }
   ],
   "source": [
    "print('Total number of unique Article Titles\\t', df['article_title'].value_counts().shape[0])\n",
    "print(\"Total number of unique Article ID's\\t\", df['article_id'].value_counts().shape[0])\n",
    "df['article_title'].value_counts().reset_index().head()"
   ]
  },
  {
   "cell_type": "markdown",
   "metadata": {},
   "source": [
    "We can see that there are 230 unique article titles and 233 article id's. We are going to perform our next analysis using th e article id's."
   ]
  },
  {
   "cell_type": "markdown",
   "metadata": {},
   "source": [
    "Checking the number of propaganda and non-propaganda articles present in each article type and f there are any specific article id where only nay one type of article is present."
   ]
  },
  {
   "cell_type": "code",
   "execution_count": 5,
   "metadata": {},
   "outputs": [
    {
     "data": {
      "image/png": "[encoded data removed]",
      "text/plain": [
       "<Figure size 1440x576 with 1 Axes>"
      ]
     },
     "metadata": {},
     "output_type": "display_data"
    }
   ],
   "source": [
    "z = df.groupby('article_id')['label'].value_counts().unstack()\n",
    "_ = z.sort_values(['propaganda', 'non-propaganda'], ascending=[False, False]).iloc[:80].plot.bar(figsize=(20, 8))\n",
    "plt.title('Bar Plot showing count of Article Type in each Article ID');"
   ]
  },
  {
   "cell_type": "markdown",
   "metadata": {},
   "source": [
    "From the above plot we can not only understand that the dataset is imbalanced, but also the every article id has a contribution to the imbalance."
   ]
  },
  {
   "cell_type": "markdown",
   "metadata": {},
   "source": [
    "<a id=\"3\"></a>\n",
    "## **3. Cleaning**"
   ]
  },
  {
   "cell_type": "markdown",
   "metadata": {},
   "source": [
    "<a id=\"3a\"></a>\n",
    "### **i. Removing Punctuatoins**\n",
    "We are going to perform a very basic cleaning process where we extract the text from the scentences and the article titles.\n"
   ]
  },
  {
   "cell_type": "code",
   "execution_count": 6,
   "metadata": {},
   "outputs": [
    {
     "name": "stdout",
     "output_type": "stream",
     "text": [
      "\n",
      "Before........\n",
      "Et Tu, Benedict?\n",
      "Maike Hickson quotes him, writing of this bizarre situation – in which each, of the so-called “Sankt Gallen Mafia” prelates, including Kasper, who openly campaigned for the effective abolition of Catholic moral teaching: “It was characteristic of the church’s effective truce [between conservatives and progressivists] that John Paul II himself had given most of them their red hats, elevating them despite their disagreement with his restorationist approach.”\n",
      "--------------------------------------------------\n",
      "After...........\n",
      "et tu benedict\n",
      "maike hickson quotes him writing of this bizarre situation in which each of the socalled sankt gallen mafia prelates including kasper who openly campaigned for the effective abolition of catholic moral teaching it was characteristic of the church s effective truce between conservatives and progressivists that john paul ii himself had given most of them their red hats elevating them despite their disagreement with his restorationist approach\n",
      "********************************************************************************\n",
      "\n",
      "Before........\n",
      "Lawmaker makes shocking claim about the Vegas massacre (video)\n",
      "ISIS terrorists, he said, infiltrated the U.S. via the southern border prior to the attack blamed on alleged lone gunman Stephen Paddock.\n",
      "--------------------------------------------------\n",
      "After...........\n",
      "lawmaker makes shocking claim about the vegas massacre video\n",
      "isis terrorists he said infiltrated the us via the southern border prior to the attack blamed on alleged lone gunman stephen paddock\n",
      "********************************************************************************\n",
      "\n",
      "Before........\n",
      "The Death Penalty, Instituted by God Himself (The Biblical Basis for Catholic Teaching on Capital Punishment)\n",
      "If his contrition is perfect, it’s conceivable that he could go straight to heaven!\n",
      "--------------------------------------------------\n",
      "After...........\n",
      "the death penalty instituted by god himself the biblical basis for catholic teaching on capital punishment\n",
      "if his contrition is perfect it s conceivable that he could go straight to heaven\n",
      "********************************************************************************\n",
      "\n",
      "Before........\n",
      "FOR THE FIRST TIME ONLINE: Archbishop Lefebvre’s Prophetic Address to The Remnant, 1976\n",
      "FOR THE FIRST TIME ONLINE: Archbishop Lefebvre’s Prophetic Address to The Remnant, 1976\n",
      "--------------------------------------------------\n",
      "After...........\n",
      "for the first time online archbishop lefebvre s prophetic address to the remnant 1976\n",
      "for the first time online archbishop lefebvre s prophetic address to the remnant 1976\n",
      "********************************************************************************\n",
      "\n",
      "Before........\n",
      "Democrats Want Us To Believe All Women…Unless They’re Accusing Keith Ellison, Bill Clinton, Al Franken Or George Soros\n",
      "This is clearly a set-up (Christine Ford is also a far-left Democrat operative) designed to derail the nomination of a good man.\n",
      "--------------------------------------------------\n",
      "After...........\n",
      "democrats want us to believe all women unless they re accusing keith ellison bill clinton al franken or george soros\n",
      "this is clearly a setup christine ford is also a farleft democrat operative designed to derail the nomination of a good man\n",
      "********************************************************************************\n"
     ]
    }
   ],
   "source": [
    "import re\n",
    "\n",
    "def word_extract(text):\n",
    "    text = re.sub(r'(-)|(,)|(\\.)', '',text)\n",
    "    text = re.findall(r'[A-Za-z\\d]+[\\w^\\']*', text.lower())\n",
    "    text = [i.strip() for i in text]\n",
    "    return ' '.join(text)\n",
    "\n",
    "for i, r in df.tail().iterrows():\n",
    "    print('\\nBefore........')\n",
    "    print(r['article_title'])\n",
    "    print(r['sentence_text'])\n",
    "    print('-'*50)\n",
    "    print('After...........')\n",
    "    print(word_extract(r['article_title']))\n",
    "    print(word_extract(r['sentence_text']))\n",
    "    print('*'*80)    "
   ]
  },
  {
   "cell_type": "markdown",
   "metadata": {},
   "source": [
    "From the above section we can see how the text is being cleaned of punctuations. Regex is being used here to extract the texts.  \n",
    "The scentence text and the article titles are joined together to form a new column and the corresponding seq length is checked."
   ]
  },
  {
   "cell_type": "markdown",
   "metadata": {},
   "source": [
    "<a id=\"3b\"></a>\n",
    "### **ii. Sequence Analysis**"
   ]
  },
  {
   "cell_type": "code",
   "execution_count": 7,
   "metadata": {},
   "outputs": [
    {
     "data": {
      "text/html": [
       "<div>\n",
       "<style scoped>\n",
       "    .dataframe tbody tr th:only-of-type {\n",
       "        vertical-align: middle;\n",
       "    }\n",
       "\n",
       "    .dataframe tbody tr th {\n",
       "        vertical-align: top;\n",
       "    }\n",
       "\n",
       "    .dataframe thead th {\n",
       "        text-align: right;\n",
       "    }\n",
       "</style>\n",
       "<table border=\"1\" class=\"dataframe\">\n",
       "  <thead>\n",
       "    <tr style=\"text-align: right;\">\n",
       "      <th></th>\n",
       "      <th>joined_text</th>\n",
       "      <th>label</th>\n",
       "      <th>seq_length</th>\n",
       "    </tr>\n",
       "  </thead>\n",
       "  <tbody>\n",
       "    <tr>\n",
       "      <th>8756</th>\n",
       "      <td>major new study homeschooling spikes due to sc...</td>\n",
       "      <td>non-propaganda</td>\n",
       "      <td>24</td>\n",
       "    </tr>\n",
       "    <tr>\n",
       "      <th>1756</th>\n",
       "      <td>chile coverup' letter contradicts pope in that...</td>\n",
       "      <td>propaganda</td>\n",
       "      <td>34</td>\n",
       "    </tr>\n",
       "    <tr>\n",
       "      <th>7904</th>\n",
       "      <td>mueller is looking for trouble trump says cryp...</td>\n",
       "      <td>non-propaganda</td>\n",
       "      <td>47</td>\n",
       "    </tr>\n",
       "    <tr>\n",
       "      <th>174</th>\n",
       "      <td>coroner defies court order won't release las v...</td>\n",
       "      <td>propaganda</td>\n",
       "      <td>17</td>\n",
       "    </tr>\n",
       "    <tr>\n",
       "      <th>5604</th>\n",
       "      <td>et tu benedict don t we all want to know why h...</td>\n",
       "      <td>non-propaganda</td>\n",
       "      <td>17</td>\n",
       "    </tr>\n",
       "  </tbody>\n",
       "</table>\n",
       "</div>"
      ],
      "text/plain": [
       "                                            joined_text           label  \\\n",
       "8756  major new study homeschooling spikes due to sc...  non-propaganda   \n",
       "1756  chile coverup' letter contradicts pope in that...      propaganda   \n",
       "7904  mueller is looking for trouble trump says cryp...  non-propaganda   \n",
       "174   coroner defies court order won't release las v...      propaganda   \n",
       "5604  et tu benedict don t we all want to know why h...  non-propaganda   \n",
       "\n",
       "      seq_length  \n",
       "8756          24  \n",
       "1756          34  \n",
       "7904          47  \n",
       "174           17  \n",
       "5604          17  "
      ]
     },
     "execution_count": 7,
     "metadata": {},
     "output_type": "execute_result"
    }
   ],
   "source": [
    "df['joined_text'] = df['article_title'] + ' ' + df['sentence_text']\n",
    "df['joined_text'] = df['joined_text'].apply(word_extract)\n",
    "df['seq_length'] = df['joined_text'].apply(lambda x: len(x.split()))\n",
    "df_ = df[['joined_text', 'label', 'seq_length']]\n",
    "df_.head()"
   ]
  },
  {
   "cell_type": "code",
   "execution_count": 8,
   "metadata": {},
   "outputs": [
    {
     "data": {
      "image/png": "[encoded data removed]",
      "text/plain": [
       "<Figure size 1080x1080 with 4 Axes>"
      ]
     },
     "metadata": {},
     "output_type": "display_data"
    }
   ],
   "source": [
    "plt.subplot(2, 1, 1)\n",
    "p1 = df_[df_['label']=='non-propaganda']['seq_length'].plot.hist(bins=50, figsize=(15, 15), edgecolor='w', alpha=0.8);\n",
    "p1.set_xticks(range(-50, df_[df_['label']=='non-propaganda']['seq_length'].max()+50, 10))\n",
    "p0 = df_[df_['label']=='non-propaganda']['seq_length'].plot.kde(secondary_y=True);\n",
    "plt.title('Distribution of Sequence Length for Non-propaganda Articles.');\n",
    "plt.subplot(2, 1, 2)\n",
    "p1 = df_[df_['label']=='propaganda']['seq_length'].plot.hist(bins=50, figsize=(15, 15), edgecolor='w', alpha=0.8);\n",
    "p1.set_xticks(range(-50, df_[df_['label']=='propaganda']['seq_length'].max()+50, 10))\n",
    "p0 = df_[df_['label']=='propaganda']['seq_length'].plot.kde(secondary_y=True);\n",
    "plt.title('Distribution of Sequence Length for Propaganda Articles.');"
   ]
  },
  {
   "cell_type": "markdown",
   "metadata": {},
   "source": [
    "From the above distributions we can see that for both propaganda and non-propaganda based articles most of the sequences lie in between 20 to 50 range.\n",
    "\n",
    "Checking the number of articles having sequnce length less than or equal to 10."
   ]
  },
  {
   "cell_type": "code",
   "execution_count": 9,
   "metadata": {},
   "outputs": [
    {
     "data": {
      "image/png": "[encoded data removed]",
      "text/plain": [
       "<Figure size 720x576 with 1 Axes>"
      ]
     },
     "metadata": {},
     "output_type": "display_data"
    }
   ],
   "source": [
    "df_[df_['seq_length'] < 11]['seq_length'].value_counts().plot.bar(figsize=(10, 8));\n",
    "plt.title('Count of Articles with sequence length <= 10');"
   ]
  },
  {
   "cell_type": "markdown",
   "metadata": {},
   "source": [
    "Now we're going to build our corpus and create numerical representation of a sequence.  \n",
    "For this we need to map every word in our corpus to an id and the sam id to a word."
   ]
  },
  {
   "cell_type": "code",
   "execution_count": 10,
   "metadata": {},
   "outputs": [],
   "source": [
    "corpus = df_['joined_text'].to_list()\n",
    "corpus = ' '.join(corpus).split()\n",
    "\n",
    "corpus = Counter(corpus)\n",
    "corpus = sorted(corpus, key=corpus.get, reverse=True)\n",
    "word_to_id = {word:i for i, word in enumerate(corpus, start=1)}\n",
    "id_to_word = {i:word for word, i in word_to_id.items()}\n",
    "joined_text_int = []\n",
    "for t in df_['joined_text'].to_list():\n",
    "    joined_text_int.append([word_to_id[word] for word in t.split()])"
   ]
  },
  {
   "cell_type": "code",
   "execution_count": 11,
   "metadata": {},
   "outputs": [],
   "source": [
    "assert(df_['joined_text'].iloc[0] == ' '.join([id_to_word[i] for i in joined_text_int[0]]))"
   ]
  },
  {
   "cell_type": "code",
   "execution_count": 12,
   "metadata": {},
   "outputs": [],
   "source": [
    "df_['joined_text_int'] = joined_text_int"
   ]
  },
  {
   "cell_type": "code",
   "execution_count": 13,
   "metadata": {},
   "outputs": [],
   "source": [
    "seq_lengths = df_['joined_text_int'].apply(lambda x: len(x))"
   ]
  },
  {
   "cell_type": "code",
   "execution_count": 14,
   "metadata": {},
   "outputs": [
    {
     "data": {
      "image/png": "[encoded data removed]",
      "text/plain": [
       "<Figure size 1080x1080 with 2 Axes>"
      ]
     },
     "metadata": {},
     "output_type": "display_data"
    }
   ],
   "source": [
    "plt.subplot(2, 1, 1)\n",
    "seq_lengths.value_counts().plot.bar(figsize=(15, 15));\n",
    "plt.title('Count Plot of Sequence Lenghts');\n",
    "plt.subplot(2, 1, 2)\n",
    "seq_lengths.plot.box(figsize=(15, 15), vert=False);\n",
    "plt.title('Box Plot of Sequence Lenghts');"
   ]
  },
  {
   "cell_type": "markdown",
   "metadata": {},
   "source": [
    "Checking articles with sequence length of size 2."
   ]
  },
  {
   "cell_type": "code",
   "execution_count": 15,
   "metadata": {},
   "outputs": [
    {
     "data": {
      "text/html": [
       "<div>\n",
       "<style scoped>\n",
       "    .dataframe tbody tr th:only-of-type {\n",
       "        vertical-align: middle;\n",
       "    }\n",
       "\n",
       "    .dataframe tbody tr th {\n",
       "        vertical-align: top;\n",
       "    }\n",
       "\n",
       "    .dataframe thead th {\n",
       "        text-align: right;\n",
       "    }\n",
       "</style>\n",
       "<table border=\"1\" class=\"dataframe\">\n",
       "  <thead>\n",
       "    <tr style=\"text-align: right;\">\n",
       "      <th></th>\n",
       "      <th>article_id</th>\n",
       "      <th>article_title</th>\n",
       "      <th>label</th>\n",
       "      <th>sentence_text</th>\n",
       "      <th>joined_text</th>\n",
       "      <th>seq_length</th>\n",
       "    </tr>\n",
       "  </thead>\n",
       "  <tbody>\n",
       "    <tr>\n",
       "      <th>2890</th>\n",
       "      <td>694327499</td>\n",
       "      <td>Wait!</td>\n",
       "      <td>non-propaganda</td>\n",
       "      <td>Me.</td>\n",
       "      <td>wait me</td>\n",
       "      <td>2</td>\n",
       "    </tr>\n",
       "    <tr>\n",
       "      <th>2891</th>\n",
       "      <td>694327499</td>\n",
       "      <td>Wait!</td>\n",
       "      <td>non-propaganda</td>\n",
       "      <td>A.</td>\n",
       "      <td>wait a</td>\n",
       "      <td>2</td>\n",
       "    </tr>\n",
       "    <tr>\n",
       "      <th>2862</th>\n",
       "      <td>694327499</td>\n",
       "      <td>Wait!</td>\n",
       "      <td>non-propaganda</td>\n",
       "      <td>Wait!</td>\n",
       "      <td>wait wait</td>\n",
       "      <td>2</td>\n",
       "    </tr>\n",
       "    <tr>\n",
       "      <th>2889</th>\n",
       "      <td>694327499</td>\n",
       "      <td>Wait!</td>\n",
       "      <td>non-propaganda</td>\n",
       "      <td>Give.</td>\n",
       "      <td>wait give</td>\n",
       "      <td>2</td>\n",
       "    </tr>\n",
       "    <tr>\n",
       "      <th>2861</th>\n",
       "      <td>694327499</td>\n",
       "      <td>Wait!</td>\n",
       "      <td>non-propaganda</td>\n",
       "      <td>Wait!</td>\n",
       "      <td>wait wait</td>\n",
       "      <td>2</td>\n",
       "    </tr>\n",
       "    <tr>\n",
       "      <th>2892</th>\n",
       "      <td>694327499</td>\n",
       "      <td>Wait!</td>\n",
       "      <td>non-propaganda</td>\n",
       "      <td>Break.</td>\n",
       "      <td>wait break</td>\n",
       "      <td>2</td>\n",
       "    </tr>\n",
       "  </tbody>\n",
       "</table>\n",
       "</div>"
      ],
      "text/plain": [
       "      article_id article_title           label sentence_text joined_text  \\\n",
       "2890   694327499         Wait!  non-propaganda           Me.     wait me   \n",
       "2891   694327499         Wait!  non-propaganda            A.      wait a   \n",
       "2862   694327499         Wait!  non-propaganda         Wait!   wait wait   \n",
       "2889   694327499         Wait!  non-propaganda         Give.   wait give   \n",
       "2861   694327499         Wait!  non-propaganda         Wait!   wait wait   \n",
       "2892   694327499         Wait!  non-propaganda        Break.  wait break   \n",
       "\n",
       "      seq_length  \n",
       "2890           2  \n",
       "2891           2  \n",
       "2862           2  \n",
       "2889           2  \n",
       "2861           2  \n",
       "2892           2  "
      ]
     },
     "execution_count": 15,
     "metadata": {},
     "output_type": "execute_result"
    }
   ],
   "source": [
    "df.loc[seq_lengths[seq_lengths == 2].index]"
   ]
  },
  {
   "cell_type": "markdown",
   "metadata": {},
   "source": [
    "Checking articles with sequence length of size 3."
   ]
  },
  {
   "cell_type": "code",
   "execution_count": 16,
   "metadata": {},
   "outputs": [
    {
     "data": {
      "text/html": [
       "<div>\n",
       "<style scoped>\n",
       "    .dataframe tbody tr th:only-of-type {\n",
       "        vertical-align: middle;\n",
       "    }\n",
       "\n",
       "    .dataframe tbody tr th {\n",
       "        vertical-align: top;\n",
       "    }\n",
       "\n",
       "    .dataframe thead th {\n",
       "        text-align: right;\n",
       "    }\n",
       "</style>\n",
       "<table border=\"1\" class=\"dataframe\">\n",
       "  <thead>\n",
       "    <tr style=\"text-align: right;\">\n",
       "      <th></th>\n",
       "      <th>article_id</th>\n",
       "      <th>article_title</th>\n",
       "      <th>label</th>\n",
       "      <th>sentence_text</th>\n",
       "      <th>joined_text</th>\n",
       "      <th>seq_length</th>\n",
       "    </tr>\n",
       "  </thead>\n",
       "  <tbody>\n",
       "    <tr>\n",
       "      <th>2872</th>\n",
       "      <td>694327499</td>\n",
       "      <td>Wait!</td>\n",
       "      <td>non-propaganda</td>\n",
       "      <td>Dawn Goldstein</td>\n",
       "      <td>wait dawn goldstein</td>\n",
       "      <td>3</td>\n",
       "    </tr>\n",
       "    <tr>\n",
       "      <th>2880</th>\n",
       "      <td>694327499</td>\n",
       "      <td>Wait!</td>\n",
       "      <td>non-propaganda</td>\n",
       "      <td>Big difference.</td>\n",
       "      <td>wait big difference</td>\n",
       "      <td>3</td>\n",
       "    </tr>\n",
       "  </tbody>\n",
       "</table>\n",
       "</div>"
      ],
      "text/plain": [
       "      article_id article_title           label    sentence_text  \\\n",
       "2872   694327499         Wait!  non-propaganda   Dawn Goldstein   \n",
       "2880   694327499         Wait!  non-propaganda  Big difference.   \n",
       "\n",
       "              joined_text  seq_length  \n",
       "2872  wait dawn goldstein           3  \n",
       "2880  wait big difference           3  "
      ]
     },
     "execution_count": 16,
     "metadata": {},
     "output_type": "execute_result"
    }
   ],
   "source": [
    "df.loc[seq_lengths[seq_lengths == 3].index]"
   ]
  },
  {
   "cell_type": "markdown",
   "metadata": {},
   "source": [
    "We can see there are certain scentence text which have only one word and their corresponding articles are also having similar format.  \n",
    "We are not going to remove these rows as there exists lot of imbalance in the data.  \n",
    "Each joined text is hoing to be padded with zeroes to have the same length as all the other sequences. \n",
    "All the scentences are going to be made of the same length as the maximum sequence length available in the dataset."
   ]
  },
  {
   "cell_type": "code",
   "execution_count": 17,
   "metadata": {},
   "outputs": [],
   "source": [
    "def pad_features(data_series, seq_length):\n",
    "\n",
    "    padded_features = np.zeros((len(data_series.values), seq_length), dtype=int)\n",
    "    for i, v in enumerate(data_series):\n",
    "        padded_features[i, -len(v):] = np.array(v)[:seq_length]\n",
    "    return list(padded_features)"
   ]
  },
  {
   "cell_type": "code",
   "execution_count": 18,
   "metadata": {},
   "outputs": [
    {
     "data": {
      "text/html": [
       "<div>\n",
       "<style scoped>\n",
       "    .dataframe tbody tr th:only-of-type {\n",
       "        vertical-align: middle;\n",
       "    }\n",
       "\n",
       "    .dataframe tbody tr th {\n",
       "        vertical-align: top;\n",
       "    }\n",
       "\n",
       "    .dataframe thead th {\n",
       "        text-align: right;\n",
       "    }\n",
       "</style>\n",
       "<table border=\"1\" class=\"dataframe\">\n",
       "  <thead>\n",
       "    <tr style=\"text-align: right;\">\n",
       "      <th></th>\n",
       "      <th>joined_text</th>\n",
       "      <th>label</th>\n",
       "      <th>seq_length</th>\n",
       "      <th>joined_text_int</th>\n",
       "      <th>joined_text_padded</th>\n",
       "    </tr>\n",
       "  </thead>\n",
       "  <tbody>\n",
       "    <tr>\n",
       "      <th>8756</th>\n",
       "      <td>major new study homeschooling spikes due to sc...</td>\n",
       "      <td>0</td>\n",
       "      <td>24</td>\n",
       "      <td>[870, 68, 871, 489, 1728, 609, 2, 128, 309, 16...</td>\n",
       "      <td>[0, 0, 0, 0, 0, 0, 0, 0, 0, 0, 0, 0, 0, 0, 0, ...</td>\n",
       "    </tr>\n",
       "    <tr>\n",
       "      <th>1756</th>\n",
       "      <td>chile coverup' letter contradicts pope in that...</td>\n",
       "      <td>1</td>\n",
       "      <td>34</td>\n",
       "      <td>[426, 1194, 242, 1116, 32, 4, 7, 242, 937, 190...</td>\n",
       "      <td>[0, 0, 0, 0, 0, 0, 0, 0, 0, 0, 0, 0, 0, 0, 0, ...</td>\n",
       "    </tr>\n",
       "    <tr>\n",
       "      <th>7904</th>\n",
       "      <td>mueller is looking for trouble trump says cryp...</td>\n",
       "      <td>0</td>\n",
       "      <td>47</td>\n",
       "      <td>[310, 10, 1056, 8, 1617, 15, 157, 1955, 310, 9...</td>\n",
       "      <td>[0, 0, 0, 0, 0, 0, 0, 0, 0, 0, 0, 0, 0, 0, 0, ...</td>\n",
       "    </tr>\n",
       "    <tr>\n",
       "      <th>174</th>\n",
       "      <td>coroner defies court order won't release las v...</td>\n",
       "      <td>1</td>\n",
       "      <td>17</td>\n",
       "      <td>[1457, 1699, 211, 224, 807, 490, 63, 52, 1730,...</td>\n",
       "      <td>[0, 0, 0, 0, 0, 0, 0, 0, 0, 0, 0, 0, 0, 0, 0, ...</td>\n",
       "    </tr>\n",
       "    <tr>\n",
       "      <th>5604</th>\n",
       "      <td>et tu benedict don t we all want to know why h...</td>\n",
       "      <td>0</td>\n",
       "      <td>17</td>\n",
       "      <td>[243, 253, 186, 425, 60, 29, 43, 214, 2, 222, ...</td>\n",
       "      <td>[0, 0, 0, 0, 0, 0, 0, 0, 0, 0, 0, 0, 0, 0, 0, ...</td>\n",
       "    </tr>\n",
       "  </tbody>\n",
       "</table>\n",
       "</div>"
      ],
      "text/plain": [
       "                                            joined_text  label  seq_length  \\\n",
       "8756  major new study homeschooling spikes due to sc...      0          24   \n",
       "1756  chile coverup' letter contradicts pope in that...      1          34   \n",
       "7904  mueller is looking for trouble trump says cryp...      0          47   \n",
       "174   coroner defies court order won't release las v...      1          17   \n",
       "5604  et tu benedict don t we all want to know why h...      0          17   \n",
       "\n",
       "                                        joined_text_int  \\\n",
       "8756  [870, 68, 871, 489, 1728, 609, 2, 128, 309, 16...   \n",
       "1756  [426, 1194, 242, 1116, 32, 4, 7, 242, 937, 190...   \n",
       "7904  [310, 10, 1056, 8, 1617, 15, 157, 1955, 310, 9...   \n",
       "174   [1457, 1699, 211, 224, 807, 490, 63, 52, 1730,...   \n",
       "5604  [243, 253, 186, 425, 60, 29, 43, 214, 2, 222, ...   \n",
       "\n",
       "                                     joined_text_padded  \n",
       "8756  [0, 0, 0, 0, 0, 0, 0, 0, 0, 0, 0, 0, 0, 0, 0, ...  \n",
       "1756  [0, 0, 0, 0, 0, 0, 0, 0, 0, 0, 0, 0, 0, 0, 0, ...  \n",
       "7904  [0, 0, 0, 0, 0, 0, 0, 0, 0, 0, 0, 0, 0, 0, 0, ...  \n",
       "174   [0, 0, 0, 0, 0, 0, 0, 0, 0, 0, 0, 0, 0, 0, 0, ...  \n",
       "5604  [0, 0, 0, 0, 0, 0, 0, 0, 0, 0, 0, 0, 0, 0, 0, ...  "
      ]
     },
     "execution_count": 18,
     "metadata": {},
     "output_type": "execute_result"
    }
   ],
   "source": [
    "df_['joined_text_padded'] = pad_features(df_['joined_text_int'], seq_lengths.max())\n",
    "\n",
    "assert len(df_['joined_text_padded'][0])==seq_lengths.max()\n",
    "\n",
    "df_['label'] = df_['label'].apply(lambda x: 1 if x == 'propaganda' else 0)\n",
    "\n",
    "df_.head()"
   ]
  },
  {
   "cell_type": "markdown",
   "metadata": {},
   "source": [
    "<a id=\"4\"></a>\n",
    "### **Data Split & Vectorizer**"
   ]
  },
  {
   "cell_type": "markdown",
   "metadata": {},
   "source": [
    "<a id=\"4a\"></a>\n",
    "### **i. Train-Dev-Test Split**"
   ]
  },
  {
   "cell_type": "markdown",
   "metadata": {},
   "source": [
    "We're going to split the data into 3 sets.  \n",
    " - Train Set 60%  \n",
    " - Dev Set 20%  \n",
    " - Test Set 20%  \n",
    "   \n",
    "As the data is imbalance we need to make sure the distribution of the data is similar in all the splits."
   ]
  },
  {
   "cell_type": "code",
   "execution_count": 19,
   "metadata": {},
   "outputs": [
    {
     "name": "stdout",
     "output_type": "stream",
     "text": [
      "Training set size\t 6878\n",
      "Remaining set size\t 4586\n"
     ]
    }
   ],
   "source": [
    "df_joined_padded_text = df_[['joined_text','joined_text_padded']]\n",
    "df_label = df_['label'].to_list()\n",
    "\n",
    "from sklearn.model_selection import train_test_split\n",
    "X_train, X_test, y_train, y_test = train_test_split(df_joined_padded_text, df_label, test_size=0.4, random_state=518123)\n",
    "\n",
    "print('Training set size\\t {}'.format(len(X_train)))\n",
    "print('Remaining set size\\t {}'.format(len(X_test)))"
   ]
  },
  {
   "cell_type": "code",
   "execution_count": 20,
   "metadata": {},
   "outputs": [
    {
     "name": "stdout",
     "output_type": "stream",
     "text": [
      "Dev set size\t 2293\n",
      "Test set size\t 2293\n"
     ]
    }
   ],
   "source": [
    "X_dev, X_ho, y_dev, y_ho = train_test_split(X_test, y_test, test_size=0.5, random_state=42)\n",
    "\n",
    "print('Dev set size\\t {}'.format(len(X_dev)))\n",
    "print('Test set size\\t {}'.format(len(X_ho)))"
   ]
  },
  {
   "cell_type": "markdown",
   "metadata": {},
   "source": [
    "Checking the distribution of labels in each split."
   ]
  },
  {
   "cell_type": "code",
   "execution_count": 21,
   "metadata": {},
   "outputs": [
    {
     "name": "stdout",
     "output_type": "stream",
     "text": [
      "Train Labels Distribution %\n",
      " {0: 71.70689153823785, 1: 28.29310846176214} \n",
      "\n",
      "Dev Labels Distribution %\n",
      " {0: 70.91146969036197, 1: 29.088530309638028} \n",
      "\n",
      "Hold Out Labels Distribution %\n",
      " {0: 70.91146969036197, 1: 29.088530309638028} \n",
      "\n"
     ]
    }
   ],
   "source": [
    "train_ratio = pd.Series(y_train).value_counts()\n",
    "train_ratio = train_ratio*100/train_ratio.sum()\n",
    "print('Train Labels Distribution %\\n', train_ratio.to_dict(), '\\n')\n",
    "test_ratio = pd.Series(y_dev).value_counts()\n",
    "test_ratio = test_ratio*100/test_ratio.sum()\n",
    "print('Dev Labels Distribution %\\n', test_ratio.to_dict(), '\\n')\n",
    "\n",
    "test_ratio = pd.Series(y_dev).value_counts()\n",
    "test_ratio = test_ratio*100/test_ratio.sum()\n",
    "print('Hold Out Labels Distribution %\\n', test_ratio.to_dict(), '\\n')"
   ]
  },
  {
   "cell_type": "markdown",
   "metadata": {},
   "source": [
    "The data distribution in all the sets are similar. Hence, we can proceed with further modelling."
   ]
  },
  {
   "cell_type": "code",
   "execution_count": 22,
   "metadata": {},
   "outputs": [],
   "source": [
    "train_ratio = pd.Series(y_train).value_counts()\n",
    "# train_ratio.to_dict()"
   ]
  },
  {
   "cell_type": "markdown",
   "metadata": {},
   "source": [
    "As the data is imbalanced, we need to use class weightage for imbalanced data.  \n",
    "The class weightage is calculated according to the formulae given [here](https://www.tensorflow.org/tutorials/structured_data/imbalanced_data).  \n",
    "The formulae is shown below:"
   ]
  },
  {
   "cell_type": "markdown",
   "metadata": {},
   "source": [
    "- $\\frac{1}{label count} * \\frac{sum of  label counts}{2}$"
   ]
  },
  {
   "cell_type": "code",
   "execution_count": 23,
   "metadata": {},
   "outputs": [
    {
     "name": "stdout",
     "output_type": "stream",
     "text": [
      "Class weight for propaganda\t 0.6972830494728305\n",
      "Class weight for non-propaganda\t 1.7672147995889003\n"
     ]
    }
   ],
   "source": [
    "weight_for_non_propaganda = (1 / train_ratio[1])*(train_ratio[0]+train_ratio[1])/2.0 \n",
    "weight_for_propaganda = (1 / train_ratio[0])*(train_ratio[0]+train_ratio[1])/2.0\n",
    "\n",
    "print('Class weight for propaganda\\t {}'.format(weight_for_propaganda))\n",
    "print('Class weight for non-propaganda\\t {}'.format(weight_for_non_propaganda))"
   ]
  },
  {
   "cell_type": "markdown",
   "metadata": {},
   "source": [
    "<a id=\"4b\"></a>\n",
    "### **ii. Tf-Idf Vectorizer**"
   ]
  },
  {
   "cell_type": "markdown",
   "metadata": {},
   "source": [
    "Here, we are going to use the classical Tf-Idf vectorizer and along with **Logistic Regression.**"
   ]
  },
  {
   "cell_type": "code",
   "execution_count": 24,
   "metadata": {},
   "outputs": [],
   "source": [
    "train_text = X_train['joined_text'].to_list()\n",
    "train_labels = y_train\n",
    "max_feature_num = 350000\n",
    "train_vectorizer = TfidfVectorizer(max_features=max_feature_num, analyzer='word', encoding='utf-8',\n",
    "                                   ngram_range=(1, 4), min_df=5, max_df=0.8*80000, lowercase=True,\n",
    "                                   sublinear_tf=True, use_idf=True)\n",
    "train_vecs = train_vectorizer.fit_transform(train_text)"
   ]
  },
  {
   "cell_type": "code",
   "execution_count": 25,
   "metadata": {},
   "outputs": [
    {
     "data": {
      "text/plain": [
       "LogisticRegression(C=15.75,\n",
       "                   class_weight={0: 1.7672147995889003, 1: 0.6972830494728305},\n",
       "                   dual=False, fit_intercept=True, intercept_scaling=1,\n",
       "                   l1_ratio=None, max_iter=250, multi_class='auto', n_jobs=10,\n",
       "                   penalty='l2', random_state=None, solver='sag', tol=0.0001,\n",
       "                   verbose=0, warm_start=False)"
      ]
     },
     "execution_count": 25,
     "metadata": {},
     "output_type": "execute_result"
    }
   ],
   "source": [
    "clf = LogisticRegression(C = 15.75, max_iter=250, n_jobs=10, solver='sag', penalty='l2',\n",
    "                         class_weight={0:weight_for_non_propaganda, 1:weight_for_propaganda})\n",
    "clf.fit(train_vecs, train_labels)"
   ]
  },
  {
   "cell_type": "markdown",
   "metadata": {},
   "source": [
    "On the dev set we can see that it is having a f1-score of **0.58** and on the hold out set it's f1-score is **0.62**."
   ]
  },
  {
   "cell_type": "code",
   "execution_count": 26,
   "metadata": {},
   "outputs": [
    {
     "name": "stdout",
     "output_type": "stream",
     "text": [
      "Result on Dev-Test set\n",
      "-----------------------\n",
      "acc 0.7357174007849978\n",
      "precision 0.6826795921066164\n",
      "rec 0.5917078361188409\n",
      "f1 0.5932683526519142\n"
     ]
    }
   ],
   "source": [
    "test_text = X_dev['joined_text'].to_list()\n",
    "test_labels = y_dev\n",
    "test_vecs = train_vectorizer.transform(test_text)\n",
    "\n",
    "preds = clf.predict(test_vecs)\n",
    "\n",
    "acc = accuracy_score(test_labels, preds)\n",
    "pre, rec, f1, _ = precision_recall_fscore_support(test_labels, preds, average='macro')\n",
    "print('Result on Dev-Test set')\n",
    "print('-'*23)\n",
    "print('acc', acc)\n",
    "print('precision', pre)\n",
    "print('rec', rec)\n",
    "print('f1', f1)"
   ]
  },
  {
   "cell_type": "code",
   "execution_count": 27,
   "metadata": {},
   "outputs": [
    {
     "name": "stdout",
     "output_type": "stream",
     "text": [
      "Result on Hold_out-Test set\n",
      "-----------------------\n",
      "acc 0.7518534670737026\n",
      "precision 0.6894527667976478\n",
      "rec 0.5932372563027146\n",
      "f1 0.598193170881934\n"
     ]
    }
   ],
   "source": [
    "test_text = X_ho['joined_text'].to_list()\n",
    "test_labels = y_ho\n",
    "test_vecs = train_vectorizer.transform(test_text)\n",
    "\n",
    "preds = clf.predict(test_vecs)\n",
    "\n",
    "acc = accuracy_score(test_labels, preds)\n",
    "pre, rec, f1, _ = precision_recall_fscore_support(test_labels, preds, average='macro')\n",
    "print('Result on Hold_out-Test set')\n",
    "print('-'*23)\n",
    "print('acc', acc)\n",
    "print('precision', pre)\n",
    "print('rec', rec)\n",
    "print('f1', f1)"
   ]
  },
  {
   "cell_type": "markdown",
   "metadata": {},
   "source": [
    "<a id=\"4c\"></a>\n",
    "### **iii. Word-to-Vec**"
   ]
  },
  {
   "cell_type": "markdown",
   "metadata": {},
   "source": [
    "Next we are going to try pre-trained word embeddings from **GloVe** and check the performance on both ***Logistic Regression*** and ***Neural Netowrk Based models.***"
   ]
  },
  {
   "cell_type": "code",
   "execution_count": 28,
   "metadata": {},
   "outputs": [],
   "source": [
    "# load the glove pre-trained embedding\n",
    "from gensim.test.utils import datapath, get_tmpfile\n",
    "from gensim.models import KeyedVectors\n",
    "from gensim.scripts.glove2word2vec import glove2word2vec\n",
    "\n",
    "path_of_downloaded_files = \"/home/archie/Documents/RHUL/Term_02/CS5990-NLP/Labs/glove/glove.6B.300d.txt\"\n",
    "glove_file = datapath(path_of_downloaded_files)\n",
    "word2vec_glove_file = get_tmpfile(\"glove.6B.300d.txt\")\n",
    "glove2word2vec(glove_file, word2vec_glove_file)\n",
    "word_vectors = KeyedVectors.load_word2vec_format(word2vec_glove_file)"
   ]
  },
  {
   "cell_type": "code",
   "execution_count": 29,
   "metadata": {},
   "outputs": [],
   "source": [
    "from nltk.tokenize import word_tokenize\n",
    "import numpy as np\n",
    "\n",
    "# Out-of-vocabulary (OOV) words: words that are not included in the pre-trained embedding model\n",
    "# There exist many ways to vectorize OOV words, e.g. use a random vector to represent all OOV words\n",
    "# Feel free to search and employ other ways to vectorize OOV words\n",
    "word_vec_dim = 300 # make sure this number matches the embedding you use\n",
    "oov_vec = np.random.rand(word_vec_dim) \n",
    "def vectorize_sent(word_vectors, sent):\n",
    "    word_vecs = []\n",
    "    for token in word_tokenize(sent): \n",
    "        if token not in word_vectors: \n",
    "            word_vecs.append(oov_vec)\n",
    "        else:\n",
    "            word_vecs.append(word_vectors[token].astype('float64'))\n",
    "    return np.mean(word_vecs,axis=0)\n",
    "\n",
    "vv = vectorize_sent(word_vectors, 'hello world ! this is a test sentence !')"
   ]
  },
  {
   "cell_type": "code",
   "execution_count": 44,
   "metadata": {},
   "outputs": [],
   "source": [
    "# create vector representations; \n",
    "# TODO: consider to apply necessary text cleaning/normalization techniques\n",
    "# TODO: consider whether to use titles information (the example below does not use titles but only sentences)\n",
    "train_docs = X_train['joined_text'].to_list()\n",
    "dev_docs = X_dev['joined_text'].to_list()\n",
    "test_docs = X_ho['joined_text'].to_list()\n",
    "train_labels = y_train\n",
    "dev_labels = y_dev\n",
    "test_labels = y_ho\n",
    "train_vecs = np.array([vectorize_sent(word_vectors, ss) for ss in train_docs])\n",
    "dev_vecs = np.array([vectorize_sent(word_vectors, ss) for ss in dev_docs])\n",
    "test_vecs = np.array([vectorize_sent(word_vectors, ss) for ss in test_docs])\n",
    "# print(train_vecs.shape)\n",
    "label_dic = {'non-propaganda':0, 'propaganda':1}"
   ]
  },
  {
   "cell_type": "code",
   "execution_count": 45,
   "metadata": {},
   "outputs": [
    {
     "data": {
      "text/plain": [
       "LogisticRegression(C=15.75,\n",
       "                   class_weight={0: 1.7672147995889003, 1: 0.6972830494728305},\n",
       "                   dual=False, fit_intercept=True, intercept_scaling=1,\n",
       "                   l1_ratio=None, max_iter=250, multi_class='auto', n_jobs=10,\n",
       "                   penalty='l2', random_state=None, solver='sag', tol=0.0001,\n",
       "                   verbose=0, warm_start=False)"
      ]
     },
     "execution_count": 45,
     "metadata": {},
     "output_type": "execute_result"
    }
   ],
   "source": [
    "clf = LogisticRegression(C = 15.75, max_iter=250, n_jobs=10, solver='sag', penalty='l2',\n",
    "                         class_weight={0:weight_for_non_propaganda, 1:weight_for_propaganda})\n",
    "clf.fit(train_vecs, train_labels)"
   ]
  },
  {
   "cell_type": "markdown",
   "metadata": {},
   "source": [
    "On the dev set we can see that it is having a f1-score of **0.46** and on the hold out set it's f1-score is **0.44**."
   ]
  },
  {
   "cell_type": "code",
   "execution_count": 46,
   "metadata": {},
   "outputs": [
    {
     "name": "stdout",
     "output_type": "stream",
     "text": [
      "Result on Dev-Test set\n",
      "-----------------------\n",
      "acc 0.7104230266027038\n",
      "precision 0.4742358297063385\n",
      "rec 0.4960439999385476\n",
      "f1 0.43764146204532706\n"
     ]
    }
   ],
   "source": [
    "preds = clf.predict(dev_vecs)\n",
    "\n",
    "acc = accuracy_score(test_labels, preds)\n",
    "pre, rec, f1, _ = precision_recall_fscore_support(test_labels, preds, average='macro')\n",
    "print('Result on Dev-Test set')\n",
    "print('-'*23)\n",
    "print('acc', acc)\n",
    "print('precision', pre)\n",
    "print('rec', rec)\n",
    "print('f1', f1)"
   ]
  },
  {
   "cell_type": "code",
   "execution_count": 47,
   "metadata": {},
   "outputs": [
    {
     "name": "stdout",
     "output_type": "stream",
     "text": [
      "Result on Hold_out-Test set\n",
      "-----------------------\n",
      "acc 0.7313563017880506\n",
      "precision 0.6413438555597257\n",
      "rec 0.5274817179026287\n",
      "f1 0.4902458389271433\n"
     ]
    }
   ],
   "source": [
    "preds = clf.predict(test_vecs)\n",
    "\n",
    "acc = accuracy_score(test_labels, preds)\n",
    "pre, rec, f1, _ = precision_recall_fscore_support(test_labels, preds, average='macro')\n",
    "print('Result on Hold_out-Test set')\n",
    "print('-'*23)\n",
    "print('acc', acc)\n",
    "print('precision', pre)\n",
    "print('rec', rec)\n",
    "print('f1', f1)"
   ]
  },
  {
   "cell_type": "markdown",
   "metadata": {},
   "source": [
    "Next we are going to check a few Neural Network Architechtures and their performance."
   ]
  },
  {
   "cell_type": "markdown",
   "metadata": {},
   "source": [
    "<a id=\"5\"></a>\n",
    "## **5. Neural Network Architectures**\n",
    "\n",
    "> Hyper Parameters: There are several hyper-parameters when it comes to neural networks.  \n",
    "Learning rate, number of epochs and Batch size are the 2 most important among them.   \n",
    "Keeping the time and computational memory complexity in mind, for this coursework we are going to follow the below specificaitons for all the neural network training methods:\n",
    "- **Batch Size** - ***64***\n",
    "- **Learning Rate** - Starting with ***0.001*** followed by decay by a factor of ***0.95 every 2 epochs.***\n",
    "- **Epochs** - ***20***\n",
    "\n",
    "<a id=\"5a\"></a>\n",
    "### **i. Simple DNN Architecture**\n",
    "\n",
    "First we are going to look into a simple DNN Architecture.  \n",
    "The network architecture is shown below:"
   ]
  },
  {
   "cell_type": "code",
   "execution_count": 39,
   "metadata": {},
   "outputs": [
    {
     "name": "stdout",
     "output_type": "stream",
     "text": [
      "MLP(\n",
      "  (hidden): Linear(in_features=300, out_features=600, bias=True)\n",
      "  (output_layer): Linear(in_features=600, out_features=2, bias=True)\n",
      "  (dropout): Dropout(p=0.5, inplace=False)\n",
      "  (relu): ReLU()\n",
      ")\n"
     ]
    }
   ],
   "source": [
    "# define a simple MLP (multi-layer perceptron) as the classifation model\n",
    "import torch\n",
    "import torch.nn as nn\n",
    "\n",
    "class MLP(nn.Module):\n",
    "    def __init__(self, input_dim, out_dim, dp_rate):\n",
    "        super(MLP, self).__init__()\n",
    "        self.hidden = nn.Linear(input_dim, input_dim*2)\n",
    "        self.output_layer = nn.Linear(input_dim*2, out_dim)\n",
    "        self.dropout = nn.Dropout(dp_rate)\n",
    "        self.relu = torch.nn.ReLU()\n",
    "        if torch.cuda.is_available():\n",
    "            self.to('cuda')\n",
    "       \n",
    "    def forward(self, x_in):\n",
    "        z1 = self.dropout(x_in) # output of the input layer, after dropout\n",
    "        z2 = self.relu(self.hidden(z1)) # output of the hidden layer\n",
    "        logits = self.output_layer(z2)\n",
    "        return logits\n",
    "\n",
    "\n",
    "# build model\n",
    "dropout_rate = 0.5 \n",
    "model = MLP(word_vec_dim,len(label_dic),dropout_rate) \n",
    "\n",
    "loss_fnc = torch.nn.CrossEntropyLoss()\n",
    "\n",
    "# hyper parameters\n",
    "n_epochs = 20 # number of epoch (i.e. number of iterations)\n",
    "batch_size = 32 # mini batch size\n",
    "lr = 0.001 # initial learning rate\n",
    "\n",
    "# initialize optimizer and scheduler (lr adjustor)\n",
    "import torch.optim as optim\n",
    "optimizer = optim.Adam(params=model.parameters(), lr=lr) # use Adam as the optimizer\n",
    "scheduler = torch.optim.lr_scheduler.StepLR(optimizer, step_size=10, gamma=0.9) \n",
    "# decays the learning rate of each parameter group by gamma every step_size epochs.\n",
    "\n",
    "print(model)"
   ]
  },
  {
   "cell_type": "code",
   "execution_count": 40,
   "metadata": {},
   "outputs": [
    {
     "name": "stdout",
     "output_type": "stream",
     "text": [
      "MLP(\n",
      "  (hidden): Linear(in_features=300, out_features=600, bias=True)\n",
      "  (output_layer): Linear(in_features=600, out_features=2, bias=True)\n",
      "  (dropout): Dropout(p=0.5, inplace=False)\n",
      "  (relu): ReLU()\n",
      ")\n"
     ]
    }
   ],
   "source": [
    "# define a simple MLP (multi-layer perceptron) as the classifation model\n",
    "import torch\n",
    "import torch.nn as nn\n",
    "\n",
    "class MLP(nn.Module):\n",
    "    def __init__(self, input_dim, out_dim, dp_rate):\n",
    "        super(MLP, self).__init__()\n",
    "        self.hidden = nn.Linear(input_dim, input_dim*2)\n",
    "        self.output_layer = nn.Linear(input_dim*2, out_dim)\n",
    "        self.dropout = nn.Dropout(dp_rate)\n",
    "        self.relu = torch.nn.ReLU()\n",
    "        if torch.cuda.is_available():\n",
    "            self.to('cuda')\n",
    "       \n",
    "    def forward(self, x_in):\n",
    "        z1 = self.dropout(x_in) # output of the input layer, after dropout\n",
    "        z2 = self.relu(self.hidden(z1)) # output of the hidden layer\n",
    "        logits = self.output_layer(z2)\n",
    "        return logits\n",
    "\n",
    "\n",
    "# build model\n",
    "dropout_rate = 0.5 \n",
    "model = MLP(word_vec_dim,len(label_dic),dropout_rate) \n",
    "\n",
    "loss_fnc = torch.nn.CrossEntropyLoss()\n",
    "\n",
    "# hyper parameters\n",
    "n_epochs = 20 # number of epoch (i.e. number of iterations)\n",
    "batch_size = 32 # mini batch size\n",
    "lr = 0.001 # initial learning rate\n",
    "\n",
    "# initialize optimizer and scheduler (lr adjustor)\n",
    "import torch.optim as optim\n",
    "optimizer = optim.Adam(params=model.parameters(), lr=lr) # use Adam as the optimizer\n",
    "scheduler = torch.optim.lr_scheduler.StepLR(optimizer, step_size=10, gamma=0.9) \n",
    "# decays the learning rate of each parameter group by gamma every step_size epochs.\n",
    "\n",
    "print(model)"
   ]
  },
  {
   "cell_type": "code",
   "execution_count": 41,
   "metadata": {},
   "outputs": [
    {
     "name": "stdout",
     "output_type": "stream",
     "text": [
      "\n",
      "---> after epoch 1 the macro-f1 on dev set is 0.5069345750860785\n",
      "\n",
      "---> after epoch 2 the macro-f1 on dev set is 0.5971064074834836\n",
      "\n",
      "---> after epoch 3 the macro-f1 on dev set is 0.556017117601665\n",
      "\n",
      "---> after epoch 4 the macro-f1 on dev set is 0.5900522210580585\n",
      "\n",
      "---> after epoch 5 the macro-f1 on dev set is 0.6029880389724306\n",
      "\n",
      "---> after epoch 6 the macro-f1 on dev set is 0.6163570041811062\n",
      "\n",
      "---> after epoch 7 the macro-f1 on dev set is 0.619812544498737\n",
      "\n",
      "---> after epoch 8 the macro-f1 on dev set is 0.6127022226649663\n",
      "\n",
      "---> after epoch 9 the macro-f1 on dev set is 0.6395384414115581\n",
      "\n",
      "---> after epoch 10 the macro-f1 on dev set is 0.62707365393634\n",
      "\n",
      "---> after epoch 11 the macro-f1 on dev set is 0.612615894663371\n",
      "\n",
      "---> after epoch 12 the macro-f1 on dev set is 0.6311675974749028\n",
      "\n",
      "---> after epoch 13 the macro-f1 on dev set is 0.6245916150274304\n",
      "\n",
      "---> after epoch 14 the macro-f1 on dev set is 0.6245916150274304\n",
      "\n",
      "---> after epoch 15 the macro-f1 on dev set is 0.6380426203630624\n",
      "\n",
      "---> after epoch 16 the macro-f1 on dev set is 0.6526008015307239\n",
      "\n",
      "---> after epoch 17 the macro-f1 on dev set is 0.6422350428679543\n",
      "\n",
      "---> after epoch 18 the macro-f1 on dev set is 0.6326508582294885\n",
      "\n",
      "---> after epoch 19 the macro-f1 on dev set is 0.6522430450148317\n",
      "\n",
      "---> after epoch 20 the macro-f1 on dev set is 0.6553014121577163\n"
     ]
    }
   ],
   "source": [
    "best_f1 = -1.\n",
    "best_model = None\n",
    "import copy\n",
    "import numpy as np\n",
    "from sklearn.metrics import precision_recall_fscore_support\n",
    "\n",
    "learning_rates=[]\n",
    "fi_scores=[]\n",
    "for epoch_i in range(n_epochs):\n",
    "    # the inner loop is over the batches in the dataset\n",
    "    model.train() # let pytorch know that gradients should be computed, so as to update the model\n",
    "#     hidden = model.init_hidden(batch_size)\n",
    "    for idx in range(0,len(train_vecs),batch_size):\n",
    "        # Step 0: Get the data\n",
    "        x_data = torch.tensor(train_vecs[idx:idx+batch_size], dtype=torch.float)\n",
    "        if x_data.shape[0] == 0: continue\n",
    "        y_target = torch.tensor(train_labels[idx:idx+batch_size], dtype=torch.int64)\n",
    "        \n",
    "        if torch.cuda.is_available():\n",
    "            x_data, y_target = x_data.to('cuda'), y_target.to('cuda')\n",
    "\n",
    "        # Step 1: Clear the gradients \n",
    "        optimizer.zero_grad()\n",
    "\n",
    "        # Step 2: Compute the forward pass of the model\n",
    "        y_pred= model(x_data)\n",
    "\n",
    "        # Step 3: Compute the loss value that we wish to optimize\n",
    "        loss = loss_fnc(y_pred, y_target)\n",
    "\n",
    "        # Step 4: Propagate the loss signal backward\n",
    "        loss.backward()\n",
    "\n",
    "        # Step 5: Trigger the optimizer to perform one update\n",
    "        optimizer.step()\n",
    "    \n",
    "    # after each epoch, we can test the model's performance on the dev set\n",
    "    with torch.no_grad(): # let pytorch know that no gradient should be computed\n",
    "        model.eval() # let the model know that it in test mode, i.e. no gradient and no dropout\n",
    "        dev_data = torch.tensor(dev_vecs, dtype=torch.float)\n",
    "        dev_target = torch.tensor(dev_labels, dtype=torch.int64)\n",
    "        if torch.cuda.is_available():\n",
    "            dev_data, dev_target = dev_data.to('cuda'), dev_target.to('cuda')\n",
    "        dev_prediction = model(dev_data)\n",
    "        pred_labels = [np.argmax(dp.numpy()) for dp in dev_prediction.cpu()]\n",
    "        pre, rec, f1, _ = precision_recall_fscore_support(dev_target.cpu(), pred_labels, average='macro')\n",
    "        print('\\n---> after epoch {} the macro-f1 on dev set is {}'.format(epoch_i+1, f1))\n",
    "        fi_scores.append(f1)\n",
    "        for param_group in optimizer.param_groups:\n",
    "            learning_rates.append(param_group['lr'])\n",
    "#             print('learning rate', param_group['lr'])\n",
    "        \n",
    "        # save the best model\n",
    "        if f1 > best_f1:\n",
    "            best_f1 = f1\n",
    "            best_model = copy.deepcopy(model.state_dict())\n",
    "#             print('best model updated; new best f1',f1)\n",
    "            \n",
    "    # (optional) adjust learning rate according to the scheduler\n",
    "    scheduler.step()\n",
    "    "
   ]
  },
  {
   "cell_type": "code",
   "execution_count": 42,
   "metadata": {},
   "outputs": [
    {
     "data": {
      "image/png": "[encoded data removed]",
      "text/plain": [
       "<Figure size 864x576 with 1 Axes>"
      ]
     },
     "metadata": {},
     "output_type": "display_data"
    }
   ],
   "source": [
    "plt.figure(figsize=(12, 8))\n",
    "plt.plot(fi_scores)\n",
    "plt.title('Simple DNN F-Macro Scores over 20 epochs on Dev Set');"
   ]
  },
  {
   "cell_type": "markdown",
   "metadata": {},
   "source": [
    "From the above plot we can see that the F-1 Score on dev set.  \n",
    "However, the performance on the hold-out test set is poor.\n",
    "It's obtaining a test-score of just **0.49.**"
   ]
  },
  {
   "cell_type": "code",
   "execution_count": 48,
   "metadata": {},
   "outputs": [
    {
     "name": "stdout",
     "output_type": "stream",
     "text": [
      "macro-f1 on test data 0.6660438164296116\n"
     ]
    }
   ],
   "source": [
    "# test on the test set\n",
    "\n",
    "# load the best model weights\n",
    "model.load_state_dict(best_model) \n",
    "test_docs = X_ho['joined_text'].to_list()\n",
    "test_vecs = np.array([vectorize_sent(word_vectors, ss) for ss in test_docs])\n",
    "test_labels = y_ho\n",
    "\n",
    "with torch.no_grad(): \n",
    "    model.eval()\n",
    "    test_data = torch.tensor(test_vecs, dtype=torch.float)\n",
    "    test_target = torch.tensor(test_labels, dtype=torch.int64)\n",
    "    if torch.cuda.is_available():\n",
    "        test_data, test_target = test_data.to('cuda'), test_target.to('cuda')\n",
    "    test_prediction = model(test_data)\n",
    "    pred_labels = [np.argmax(dp.numpy()) for dp in test_prediction.cpu()]\n",
    "    pre, rec, f1, _ = precision_recall_fscore_support(test_target.cpu(), pred_labels, average='macro')\n",
    "    print('macro-f1 on test data', f1)"
   ]
  },
  {
   "cell_type": "markdown",
   "metadata": {},
   "source": [
    "<a id=\"5c\"></a>\n",
    "### **i. RNN (Recurrent Neural Network)**"
   ]
  },
  {
   "cell_type": "markdown",
   "metadata": {},
   "source": [
    "<a id=\"5c1\"></a>\n",
    "#### **a. Basic RNN**\n",
    "\n",
    "As this is a very imbalanced dataset, we'll keep the dropout value as **'0.2'**.\n",
    "\n",
    "- Embedding Dimension - 300  \n",
    "- Hidden Dimension - 300  \n",
    "- RNN Layer Type - RNN\n",
    "- Pooling Layer Type - Max\n",
    "- Dropout - 0.2\n",
    "___"
   ]
  },
  {
   "cell_type": "code",
   "execution_count": 51,
   "metadata": {},
   "outputs": [
    {
     "name": "stdout",
     "output_type": "stream",
     "text": [
      "RNN_Classifier(\n",
      "  (rnn): RNN(300, 300, batch_first=True, dropout=0.2)\n",
      "  (fc): Linear(in_features=300, out_features=2, bias=True)\n",
      ")\n"
     ]
    }
   ],
   "source": [
    "# then we define the RNN-based classifier\n",
    "import torch\n",
    "import torch.nn as nn\n",
    "\n",
    "class RNN_Classifier(nn.Module):\n",
    "    def __init__(self, embd_dim, hidden_dim, model_type, cls_num, pooler_type, dropout, gpu):\n",
    "        super(RNN_Classifier, self).__init__()\n",
    "        assert model_type in ['rnn','lstm','bilstm','gru']\n",
    "        assert pooler_type in ['max','avg']\n",
    "        # rnn type\n",
    "        if model_type == 'rnn':\n",
    "            self.rnn = nn.RNN(hidden_size=hidden_dim, batch_first=True, input_size=embd_dim, dropout=dropout)\n",
    "        elif model_type == 'lstm':\n",
    "            self.rnn = nn.LSTM(hidden_size=hidden_dim, batch_first=True, input_size=embd_dim, dropout=dropout)\n",
    "        elif model_type == 'bilstm':\n",
    "            self.rnn = nn.LSTM(hidden_size=hidden_dim, batch_first=True, input_size=embd_dim, bidirectional=True, dropout=dropout)\n",
    "        else: # model_type == 'gru'\n",
    "            self.rnn = nn.GRU(hidden_size=hidden_dim, batch_first=True, input_size=embd_dim, dropout=dropout)\n",
    "        # map from rnn output to logits\n",
    "        if model_type == 'linear':\n",
    "            self.fc = nn.Linear(2*hidden_dim, cls_num)\n",
    "        else:\n",
    "            self.fc = nn.Linear(hidden_dim, cls_num)\n",
    "        # pooler type\n",
    "        self.pooler_type = pooler_type\n",
    "        # gpu or not\n",
    "        self.gpu = gpu\n",
    "        if gpu: self.to('cuda')\n",
    "            \n",
    "    def forward(self, input_matrix):\n",
    "#         print('ip mat', input_matrix.shape)\n",
    "        token_num = input_matrix.shape[1]\n",
    "#         print('token_num', token_num)\n",
    "        hidden_vecs = self.rnn(input_matrix)[0]\n",
    "#         print('hidden', hidden_vecs.shape)\n",
    "#         print(hidden_vecs)\n",
    "        if self.pooler_type == 'max':\n",
    "            pooler = nn.MaxPool1d(token_num)\n",
    "            \n",
    "        else: \n",
    "            pooler = nn.AvgPool1d(token_num)\n",
    "            \n",
    "        if self.gpu: pooler.to('cuda')\n",
    "#         print('hidden_transpose', torch.transpose(hidden_vecs,1,2).squeeze().shape)\n",
    "#         print(torch.transpose(hidden_vecs,1,2).squeeze())\n",
    "        \n",
    "        pooled_hidden = pooler(torch.transpose(hidden_vecs,1,2)).squeeze()\n",
    "#         print('pooled', pooled_hidden.shape)\n",
    "        fc = self.fc(pooled_hidden)\n",
    "#         print('fc', fc.shape)\n",
    "        return fc\n",
    "\n",
    "# define functions that build mini-batches\n",
    "from nltk.tokenize import word_tokenize\n",
    "import numpy as np\n",
    "\n",
    "embd_dim = 300\n",
    "hidden_dim = 300\n",
    "rnn_type = 'rnn'\n",
    "pooler_type = 'avg'\n",
    "dropout = 0.2\n",
    "gpu = True\n",
    "\n",
    "def get_sent_word_vecs(word_vectors, sent_words, largest_len):\n",
    "    vecs = []\n",
    "    oov_vec = np.random.rand(embd_dim)\n",
    "    for ww in sent_words:\n",
    "        if ww in word_vectors:\n",
    "            vecs.append(word_vectors[ww])\n",
    "        else:\n",
    "            vecs.append(oov_vec)\n",
    "    return np.array(vecs)\n",
    "\n",
    "def build_mini_batch(sent_list, word_vectors):\n",
    "    tokenized_sents = [word_tokenize(ss.lower()) for ss in sent_list]\n",
    "    largest_len = np.max([len(tokens) for tokens in tokenized_sents])\n",
    "    text_vecs = []\n",
    "    for ts in tokenized_sents:\n",
    "        vv = get_sent_word_vecs(word_vectors, ts, largest_len)\n",
    "        text_vecs.append(vv)\n",
    "#     print('mini batch shape',np.array(text_vecs).shape)\n",
    "    return np.array(text_vecs)\n",
    "\n",
    "def make_batch_prediction(sent_list, word_vectors, model, use_gpu=False):\n",
    "    batch = build_mini_batch(sent_list, word_vectors)\n",
    "#     print(batch[0].shape)\n",
    "    batch_logits = torch.tensor([])\n",
    "    if use_gpu: batch_logits = batch_logits.to('cuda')\n",
    "    for i in range(batch.shape[0]):\n",
    "        input_sents = torch.from_numpy(batch[i]).float()\n",
    "        if use_gpu:\n",
    "            input_sents = input_sents.to('cuda')\n",
    "#         print(input_sents.unsqueeze(0).shape)\n",
    "        logits = model(input_sents.unsqueeze(0))\n",
    "        batch_logits = torch.cat( (batch_logits, logits) )\n",
    "    return batch_logits.view(batch.shape[0],-1)\n",
    "  \n",
    "# sanity check \n",
    "model = RNN_Classifier(embd_dim, hidden_dim, rnn_type, len(label_dic), pooler_type, dropout, gpu)\n",
    "print(model)\n",
    "batch_pred = make_batch_prediction(\n",
    "    ['hello world!','hello','another test sentence this is'],\n",
    "    word_vectors, model, gpu)\n",
    "# print(batch_pred)"
   ]
  },
  {
   "cell_type": "code",
   "execution_count": 52,
   "metadata": {},
   "outputs": [],
   "source": [
    "loss_fnc = torch.nn.CrossEntropyLoss() # cross entropy loss\n",
    "\n",
    "# hyper parameters\n",
    "n_epochs = 20 # number of epoch (i.e. number of iterations)\n",
    "batch_size = 50\n",
    "lr = 0.001 # initial learning rate\n",
    "\n",
    "# init optimizer and scheduler (lr adjustor)\n",
    "import torch.optim as optim\n",
    "optimizer = optim.Adam(params=model.parameters(), lr=lr) # use Adam as the optimizer\n",
    "scheduler = torch.optim.lr_scheduler.StepLR(optimizer, step_size=1, gamma=0.999) \n",
    "# after each epoch, the learning rate is discounted to its 95%\n",
    "# print(model)"
   ]
  },
  {
   "cell_type": "code",
   "execution_count": null,
   "metadata": {},
   "outputs": [],
   "source": [
    "# training the CNN model\n",
    "\n",
    "best_f1 = -1.\n",
    "best_model = None\n",
    "import copy\n",
    "import numpy as np\n",
    "from sklearn.metrics import precision_recall_fscore_support\n",
    "from nltk.tokenize import word_tokenize\n",
    "from tqdm import tqdm, notebook\n",
    "\n",
    "rnn_learning_rates = []\n",
    "rnn_f1_sores = []\n",
    "\n",
    "for epoch_i in range(n_epochs):\n",
    "    print('epoch {}/{}'.format(epoch_i, n_epochs))\n",
    "    # the inner loop is over the batches in the dataset\n",
    "    model.train() # let pytorch know that gradients should be computed, so as to update the model\n",
    "    ep_loss = []\n",
    "    for idx in notebook.tqdm(range(0,len(train_docs),batch_size)):\n",
    "        # Step 0: Get the data\n",
    "        sents = train_docs[idx:idx+batch_size]\n",
    "        if len(sents) == 0: break\n",
    "        y_target = torch.tensor([train_labels[idx:idx+batch_size]], dtype=torch.int64).squeeze()\n",
    "        if gpu:\n",
    "            y_target = y_target.to('cuda')\n",
    "        \n",
    "        # Step 1: Clear the gradients \n",
    "        optimizer.zero_grad()\n",
    "\n",
    "        # Step 2: Compute the forward pass of the model\n",
    "        y_pred = make_batch_prediction(sents, word_vectors, model, gpu)\n",
    "        pred_labels = [np.argmax(entry) for entry in y_pred.cpu().detach().numpy()]\n",
    "        # print('pred labels', pred_labels)\n",
    "        # print('true labels', y_target)\n",
    "\n",
    "        # Step 3: Compute the loss value that we wish to optimize\n",
    "        loss = loss_fnc(y_pred, y_target)\n",
    "        # print(loss)\n",
    "        ep_loss.append(loss.cpu().detach().numpy())\n",
    "\n",
    "        # Step 4: Propagate the loss signal backward\n",
    "        loss.backward()\n",
    "        \n",
    "        # Step 4+: clip the gradient, to avoid gradient explosion\n",
    "        nn.utils.clip_grad_value_(model.parameters(), clip_value=3.)\n",
    "\n",
    "        # Step 5: Trigger the optimizer to perform one update\n",
    "        optimizer.step()\n",
    "    \n",
    "    print('\\n======epoch {} loss======'.format(epoch_i),np.mean(ep_loss))\n",
    "    \n",
    "    # after each epoch, we can test the model's performance on the dev set\n",
    "    with torch.no_grad(): # let pytorch know that no gradient should be computed\n",
    "        model.eval() # let the model know that it in test mode, i.e. no gradient and no dropout\n",
    "        predictions = []\n",
    "        test_docs = dev_docs\n",
    "        test_labels = dev_labels\n",
    "        \n",
    "        for idx in range(0,len(dev_docs),batch_size):\n",
    "            y_pred = make_batch_prediction(dev_docs[idx:idx+batch_size], word_vectors, model, gpu)\n",
    "            pred_labels = [np.argmax(entry) for entry in y_pred.cpu().detach().numpy()]\n",
    "            predictions += pred_labels\n",
    "        pre, rec, f1, _ = precision_recall_fscore_support(dev_labels, predictions,average='macro')\n",
    "        rnn_f1_sores.append(f1)\n",
    "#         print('\\n---> after epoch {} the macro-F1 on dev set is {}'.format(epoch_i, f1))\n",
    "        for param_group in optimizer.param_groups:\n",
    "            learning_rates.append(param_group['lr'])\n",
    "#             print('learning rate', param_group['lr'])\n",
    "        \n",
    "        # save the best model\n",
    "        if f1 > best_f1:\n",
    "            best_f1 = f1\n",
    "            best_model = copy.deepcopy(model.state_dict())\n",
    "            print('best model updated; new best macro-F1',f1)\n",
    "    \n",
    "    # (optional) adjust learning rate according to the scheduler\n",
    "    scheduler.step()"
   ]
  },
  {
   "cell_type": "markdown",
   "metadata": {},
   "source": [
    ">The same code snippet is used to generate the following plots after training.  \n",
    "The **model** parameters of the RNN_Classifier is changed keeping all the remaining parameters same to generate RNN Classification models with different RNN units."
   ]
  },
  {
   "cell_type": "code",
   "execution_count": 54,
   "metadata": {},
   "outputs": [
    {
     "data": {
      "image/png": "[encoded data removed]",
      "text/plain": [
       "<Figure size 864x576 with 1 Axes>"
      ]
     },
     "metadata": {},
     "output_type": "display_data"
    }
   ],
   "source": [
    "plt.figure(figsize=(12, 8))\n",
    "plt.plot(rnn_f1_sores)\n",
    "plt.title('RNN F-Macro Scores over');"
   ]
  },
  {
   "cell_type": "markdown",
   "metadata": {},
   "source": [
    ">We can see that the performance increases with each epoch and tends to become static around **0.65.**"
   ]
  },
  {
   "cell_type": "code",
   "execution_count": 56,
   "metadata": {},
   "outputs": [
    {
     "name": "stdout",
     "output_type": "stream",
     "text": [
      "The macro-F1 on Test set is 0.6766190462381398\n"
     ]
    }
   ],
   "source": [
    "# test on the test set\n",
    "test_predictions = []\n",
    "# load the best model weights\n",
    "model.load_state_dict(best_model) \n",
    "test_docs = X_ho['joined_text'].to_list()\n",
    "test_labels = y_ho\n",
    "\n",
    "with torch.no_grad(): # let pytorch know that no gradient should be computed\n",
    "    model.eval() # let the model know that it in test mode, i.e. no gradient and no dropout\n",
    "    predictions = []\n",
    "#     test_docs = test_docs\n",
    "#     test_labels = dev_labels\n",
    "\n",
    "    for idx in range(0,len(test_docs),batch_size):\n",
    "        y_pred = make_batch_prediction(\n",
    "            test_docs[idx:idx+batch_size], word_vectors, model, gpu)\n",
    "        pred_labels = [np.argmax(entry) for entry in y_pred.cpu().detach().numpy()]\n",
    "        predictions += pred_labels\n",
    "    pre, rec, f1, _ = precision_recall_fscore_support(test_labels, predictions,average='macro')\n",
    "    print('The macro-F1 on Test set is {}'.format(f1))"
   ]
  },
  {
   "cell_type": "markdown",
   "metadata": {},
   "source": [
    "<a id=\"5c2\"></a>\n",
    "#### **b. LSTM**\n",
    "\n",
    "- Embedding Dimension - 300  \n",
    "- Hidden Dimension - 300  \n",
    "- RNN Layer Type - LSTM\n",
    "- Pooling Layer Type - Max\n",
    "- Dropout - 0.2\n",
    "___"
   ]
  },
  {
   "cell_type": "code",
   "execution_count": 16,
   "metadata": {},
   "outputs": [
    {
     "data": {
      "image/png": "[encoded data removed]",
      "text/plain": [
       "<Figure size 864x576 with 1 Axes>"
      ]
     },
     "metadata": {},
     "output_type": "display_data"
    }
   ],
   "source": [
    "plt.figure(figsize=(12, 8))\n",
    "plt.plot(rnn_f1_sores)\n",
    "plt.title('LSTM F1-Macro Scores over 10 epochs');"
   ]
  },
  {
   "cell_type": "markdown",
   "metadata": {},
   "source": [
    ">We can see that the performance increases with each epoch and tends to become static around **0.70.**"
   ]
  },
  {
   "cell_type": "code",
   "execution_count": 17,
   "metadata": {},
   "outputs": [
    {
     "name": "stdout",
     "output_type": "stream",
     "text": [
      "The macro-F1 on Test set is 0.6983682022053179\n"
     ]
    }
   ],
   "source": [
    "# test on the test set\n",
    "test_predictions = []\n",
    "# load the best model weights\n",
    "model.load_state_dict(best_model) \n",
    "\n",
    "with torch.no_grad(): # let pytorch know that no gradient should be computed\n",
    "    model.eval() # let the model know that it in test mode, i.e. no gradient and no dropout\n",
    "    predictions = []\n",
    "#     test_docs = test_docs\n",
    "#     test_labels = dev_labels\n",
    "\n",
    "    for idx in range(0,len(test_docs),batch_size):\n",
    "        y_pred = make_batch_prediction(\n",
    "            test_docs[idx:idx+batch_size], word_vectors, model, gpu)\n",
    "        pred_labels = [np.argmax(entry) for entry in y_pred.cpu().detach().numpy()]\n",
    "        predictions += pred_labels\n",
    "    pre, rec, f1, _ = precision_recall_fscore_support(test_labels, predictions,average='macro')\n",
    "    print('The macro-F1 on Test set is {}'.format(f1))"
   ]
  },
  {
   "cell_type": "markdown",
   "metadata": {},
   "source": [
    "<a id=\"5c3\"></a>\n",
    "#### **c. Bi-LSTM**\n",
    "\n",
    "Bi-LSTM models have 2 sets of sequence checks. Once forward and second is backward.  \n",
    "Hence, the next layer should be double the number of hidden layer output from LSTM layer.\n",
    "- Embedding Dimension - 300  \n",
    "- Hidden Dimension - 300  \n",
    "- Fully Connected Layer - 600\n",
    "- RNN Layer Type - LSTM (Bi-Directional True)\n",
    "- Pooling Layer Type - Average\n",
    "- Dropout - 0.2\n",
    "___"
   ]
  },
  {
   "cell_type": "code",
   "execution_count": 57,
   "metadata": {},
   "outputs": [
    {
     "name": "stdout",
     "output_type": "stream",
     "text": [
      "RNN_Classifier(\n",
      "  (rnn): LSTM(300, 300, batch_first=True, dropout=0.2, bidirectional=True)\n",
      "  (fc): Linear(in_features=600, out_features=2, bias=True)\n",
      ")\n"
     ]
    }
   ],
   "source": [
    "# then we define the RNN-based classifier\n",
    "import torch\n",
    "import torch.nn as nn\n",
    "\n",
    "class RNN_Classifier(nn.Module):\n",
    "    def __init__(self, embd_dim, hidden_dim, model_type, cls_num, pooler_type, dropout, gpu):\n",
    "        super(RNN_Classifier, self).__init__()\n",
    "        assert model_type in ['rnn','lstm','bilstm','gru']\n",
    "        assert pooler_type in ['max','avg']\n",
    "        # rnn type\n",
    "        if model_type == 'rnn':\n",
    "            self.rnn = nn.RNN(hidden_size=hidden_dim, batch_first=True, input_size=embd_dim, dropout=dropout)\n",
    "        elif model_type == 'lstm':\n",
    "            self.rnn = nn.LSTM(hidden_size=hidden_dim, batch_first=True, input_size=embd_dim, dropout=dropout)\n",
    "        elif model_type == 'bilstm':\n",
    "            self.rnn = nn.LSTM(hidden_size=hidden_dim, batch_first=True, input_size=embd_dim, bidirectional=True, dropout=dropout)\n",
    "        else: # model_type == 'gru'\n",
    "            self.rnn = nn.GRU(hidden_size=hidden_dim, batch_first=True, input_size=embd_dim, dropout=dropout)\n",
    "        # map from rnn output to logits\n",
    "        if model_type == 'bilstm':\n",
    "            self.fc = nn.Linear(2*hidden_dim, cls_num)\n",
    "        else:\n",
    "            self.fc = nn.Linear(hidden_dim, cls_num)\n",
    "        # pooler type\n",
    "        self.pooler_type = pooler_type\n",
    "        # gpu or not\n",
    "        self.gpu = gpu\n",
    "        if gpu: self.to('cuda')\n",
    "            \n",
    "    def forward(self, input_matrix):\n",
    "#         print('ip mat', input_matrix.shape)\n",
    "        token_num = input_matrix.shape[1]\n",
    "#         print('token_num', token_num)\n",
    "        hidden_vecs = self.rnn(input_matrix)[0]\n",
    "#         print('hidden', hidden_vecs.shape)\n",
    "#         print(hidden_vecs)\n",
    "        if self.pooler_type == 'max':\n",
    "            pooler = nn.MaxPool1d(token_num)\n",
    "            \n",
    "        else: \n",
    "            pooler = nn.AvgPool1d(token_num)\n",
    "            \n",
    "        if self.gpu: pooler.to('cuda')\n",
    "#         print('hidden_transpose', torch.transpose(hidden_vecs,1,2).squeeze().shape)\n",
    "#         print(torch.transpose(hidden_vecs,1,2).squeeze())\n",
    "        \n",
    "        pooled_hidden = pooler(torch.transpose(hidden_vecs,1,2)).squeeze()\n",
    "#         print('pooled', pooled_hidden.shape)\n",
    "        fc = self.fc(pooled_hidden)\n",
    "#         print('fc', fc.shape)\n",
    "        return fc\n",
    "\n",
    "# define functions that build mini-batches\n",
    "from nltk.tokenize import word_tokenize\n",
    "import numpy as np\n",
    "\n",
    "embd_dim = 300\n",
    "hidden_dim = 300\n",
    "rnn_type = 'bilstm'\n",
    "pooler_type = 'avg'\n",
    "dropout = 0.2\n",
    "gpu = True\n",
    "\n",
    "def get_sent_word_vecs(word_vectors, sent_words, largest_len):\n",
    "    vecs = []\n",
    "    oov_vec = np.random.rand(embd_dim)\n",
    "    for ww in sent_words:\n",
    "        if ww in word_vectors:\n",
    "            vecs.append(word_vectors[ww])\n",
    "        else:\n",
    "            vecs.append(oov_vec)\n",
    "    return np.array(vecs)\n",
    "\n",
    "def build_mini_batch(sent_list, word_vectors):\n",
    "    tokenized_sents = [word_tokenize(ss.lower()) for ss in sent_list]\n",
    "    largest_len = np.max([len(tokens) for tokens in tokenized_sents])\n",
    "    text_vecs = []\n",
    "    for ts in tokenized_sents:\n",
    "        vv = get_sent_word_vecs(word_vectors, ts, largest_len)\n",
    "        text_vecs.append(vv)\n",
    "#     print('mini batch shape',np.array(text_vecs).shape)\n",
    "    return np.array(text_vecs)\n",
    "\n",
    "def make_batch_prediction(sent_list, word_vectors, model, use_gpu=False):\n",
    "    batch = build_mini_batch(sent_list, word_vectors)\n",
    "#     print(batch[0].shape)\n",
    "    batch_logits = torch.tensor([])\n",
    "    if use_gpu: batch_logits = batch_logits.to('cuda')\n",
    "    for i in range(batch.shape[0]):\n",
    "        input_sents = torch.from_numpy(batch[i]).float()\n",
    "        if use_gpu:\n",
    "            input_sents = input_sents.to('cuda')\n",
    "#         print(input_sents.unsqueeze(0).shape)\n",
    "        logits = model(input_sents.unsqueeze(0))\n",
    "        batch_logits = torch.cat( (batch_logits, logits) )\n",
    "    return batch_logits.view(batch.shape[0],-1)\n",
    "  \n",
    "# sanity check \n",
    "model = RNN_Classifier(embd_dim, hidden_dim, rnn_type, len(label_dic), pooler_type, dropout, gpu)\n",
    "print(model)\n",
    "batch_pred = make_batch_prediction(\n",
    "    ['hello world!','hello','another test sentence this is'],\n",
    "    word_vectors, model, gpu)\n",
    "# print(batch_pred)"
   ]
  },
  {
   "cell_type": "code",
   "execution_count": 23,
   "metadata": {},
   "outputs": [
    {
     "data": {
      "image/png": "[encoded data removed]",
      "text/plain": [
       "<Figure size 864x576 with 1 Axes>"
      ]
     },
     "metadata": {},
     "output_type": "display_data"
    }
   ],
   "source": [
    "plt.figure(figsize=(12, 8))\n",
    "plt.plot(rnn_f1_sores)\n",
    "plt.title('Bi-LSTM F1-Macro Scores over 20 epochs');"
   ]
  },
  {
   "cell_type": "markdown",
   "metadata": {},
   "source": [
    ">It's clearly noticeable that there's not static increase in performance. The last checkpoint saved at **0.7**, also ***co-incidentally produces similar results in the test set, but this result cannot be relied on.***  \n",
    "This is a clear indication of over-fitting."
   ]
  },
  {
   "cell_type": "code",
   "execution_count": 13,
   "metadata": {},
   "outputs": [
    {
     "name": "stdout",
     "output_type": "stream",
     "text": [
      "The macro-F1 on Test set is 0.6934018679575762\n"
     ]
    }
   ],
   "source": [
    "# test on the test set\n",
    "test_predictions = []\n",
    "# load the best model weights\n",
    "model.load_state_dict(best_model) \n",
    "\n",
    "with torch.no_grad(): # let pytorch know that no gradient should be computed\n",
    "    model.eval() # let the model know that it in test mode, i.e. no gradient and no dropout\n",
    "    predictions = []\n",
    "#     test_docs = test_docs\n",
    "#     test_labels = dev_labels\n",
    "\n",
    "    for idx in range(0,len(test_docs),batch_size):\n",
    "        y_pred = make_batch_prediction(\n",
    "            test_docs[idx:idx+batch_size], word_vectors, model, gpu)\n",
    "        pred_labels = [np.argmax(entry) for entry in y_pred.cpu().detach().numpy()]\n",
    "        predictions += pred_labels\n",
    "    pre, rec, f1, _ = precision_recall_fscore_support(test_labels, predictions,average='macro')\n",
    "    print('The macro-F1 on Test set is {}'.format(f1))"
   ]
  },
  {
   "cell_type": "markdown",
   "metadata": {},
   "source": [
    "<a id=\"5c4\"></a>\n",
    "#### **d. Bi-GRU**\n",
    "\n",
    "Similar to Bi-LSTM, Bidirectional GRU models have 2 sets of sequence checks. Once forward and second is backward.  \n",
    "Hence, the next layer should be double the number of hidden layer output from LSTM layer.\n",
    "- Embedding Dimension - 300  \n",
    "- Hidden Dimension - 300  \n",
    "- Fully Connected Layer - 600\n",
    "- RNN Layer Type - GRU ( Bi-Directional True)\n",
    "- Pooling Layer Type - Average\n",
    "- Dropout - 0.2\n",
    "___"
   ]
  },
  {
   "cell_type": "code",
   "execution_count": 59,
   "metadata": {},
   "outputs": [
    {
     "name": "stdout",
     "output_type": "stream",
     "text": [
      "RNN_Classifier(\n",
      "  (rnn): GRU(300, 300, batch_first=True, dropout=0.2, bidirectional=True)\n",
      "  (fc): Linear(in_features=600, out_features=2, bias=True)\n",
      ")\n"
     ]
    }
   ],
   "source": [
    "# then we define the RNN-based classifier\n",
    "import torch\n",
    "import torch.nn as nn\n",
    "\n",
    "class RNN_Classifier(nn.Module):\n",
    "    def __init__(self, embd_dim, hidden_dim, model_type, cls_num, pooler_type, dropout, gpu):\n",
    "        super(RNN_Classifier, self).__init__()\n",
    "        assert model_type in ['rnn','lstm','bilstm','gru-bi']\n",
    "        assert pooler_type in ['max','avg']\n",
    "        # rnn type\n",
    "        if model_type == 'rnn':\n",
    "            self.rnn = nn.RNN(hidden_size=hidden_dim, batch_first=True, input_size=embd_dim, dropout=dropout)\n",
    "        elif model_type == 'lstm':\n",
    "            self.rnn = nn.LSTM(hidden_size=hidden_dim, batch_first=True, input_size=embd_dim, dropout=dropout)\n",
    "        elif model_type == 'bilstm':\n",
    "            self.rnn = nn.LSTM(hidden_size=hidden_dim, batch_first=True, input_size=embd_dim, bidirectional=True, dropout=dropout)\n",
    "        elif model_type == 'gru-bi':\n",
    "            self.rnn = nn.GRU(hidden_size=hidden_dim, batch_first=True, input_size=embd_dim, dropout=dropout, bidirectional=True)\n",
    "        # map from rnn output to logits\n",
    "        if model_type == 'bilstm' or model_type == 'gru-bi':\n",
    "            self.fc = nn.Linear(2*hidden_dim, cls_num)\n",
    "        else:\n",
    "            self.fc = nn.Linear(hidden_dim, cls_num)\n",
    "        # pooler type\n",
    "        self.pooler_type = pooler_type\n",
    "        # gpu or not\n",
    "        self.gpu = gpu\n",
    "        if gpu: self.to('cuda')\n",
    "            \n",
    "    def forward(self, input_matrix):\n",
    "#         print('ip mat', input_matrix.shape)\n",
    "        token_num = input_matrix.shape[1]\n",
    "#         print('token_num', token_num)\n",
    "        hidden_vecs = self.rnn(input_matrix)[0]\n",
    "#         print('hidden', hidden_vecs.shape)\n",
    "#         print(hidden_vecs)\n",
    "        if self.pooler_type == 'max':\n",
    "            pooler = nn.MaxPool1d(token_num)\n",
    "            \n",
    "        else: \n",
    "            pooler = nn.AvgPool1d(token_num)\n",
    "            \n",
    "        if self.gpu: pooler.to('cuda')\n",
    "#         print('hidden_transpose', torch.transpose(hidden_vecs,1,2).squeeze().shape)\n",
    "#         print(torch.transpose(hidden_vecs,1,2).squeeze())\n",
    "        \n",
    "        pooled_hidden = pooler(torch.transpose(hidden_vecs,1,2)).squeeze()\n",
    "#         print('pooled', pooled_hidden.shape)\n",
    "        fc = self.fc(pooled_hidden)\n",
    "#         print('fc', fc.shape)\n",
    "        return fc\n",
    "\n",
    "# define functions that build mini-batches\n",
    "from nltk.tokenize import word_tokenize\n",
    "import numpy as np\n",
    "\n",
    "embd_dim = 300\n",
    "hidden_dim = 300\n",
    "rnn_type = 'gru-bi'\n",
    "pooler_type = 'avg'\n",
    "dropout = 0.2\n",
    "gpu = True\n",
    "\n",
    "def get_sent_word_vecs(word_vectors, sent_words, largest_len):\n",
    "    vecs = []\n",
    "    oov_vec = np.random.rand(embd_dim)\n",
    "    for ww in sent_words:\n",
    "        if ww in word_vectors:\n",
    "            vecs.append(word_vectors[ww])\n",
    "        else:\n",
    "            vecs.append(oov_vec)\n",
    "    return np.array(vecs)\n",
    "\n",
    "def build_mini_batch(sent_list, word_vectors):\n",
    "    tokenized_sents = [word_tokenize(ss.lower()) for ss in sent_list]\n",
    "    largest_len = np.max([len(tokens) for tokens in tokenized_sents])\n",
    "    text_vecs = []\n",
    "    for ts in tokenized_sents:\n",
    "        vv = get_sent_word_vecs(word_vectors, ts, largest_len)\n",
    "        text_vecs.append(vv)\n",
    "#     print('mini batch shape',np.array(text_vecs).shape)\n",
    "    return np.array(text_vecs)\n",
    "\n",
    "def make_batch_prediction(sent_list, word_vectors, model, use_gpu=False):\n",
    "    batch = build_mini_batch(sent_list, word_vectors)\n",
    "#     print(batch[0].shape)\n",
    "    batch_logits = torch.tensor([])\n",
    "    if use_gpu: batch_logits = batch_logits.to('cuda')\n",
    "    for i in range(batch.shape[0]):\n",
    "        input_sents = torch.from_numpy(batch[i]).float()\n",
    "        if use_gpu:\n",
    "            input_sents = input_sents.to('cuda')\n",
    "#         print(input_sents.unsqueeze(0).shape)\n",
    "        logits = model(input_sents.unsqueeze(0))\n",
    "        batch_logits = torch.cat( (batch_logits, logits) )\n",
    "    return batch_logits.view(batch.shape[0],-1)\n",
    "  \n",
    "# sanity check \n",
    "model = RNN_Classifier(embd_dim, hidden_dim, rnn_type, len(label_dic), pooler_type, dropout, gpu)\n",
    "print(model)\n",
    "batch_pred = make_batch_prediction(\n",
    "    ['hello world!','hello','another test sentence this is'],\n",
    "    word_vectors, model, gpu)\n",
    "# print(batch_pred)"
   ]
  },
  {
   "cell_type": "code",
   "execution_count": 12,
   "metadata": {},
   "outputs": [
    {
     "data": {
      "image/png": "[encoded data removed]",
      "text/plain": [
       "<Figure size 864x576 with 1 Axes>"
      ]
     },
     "metadata": {},
     "output_type": "display_data"
    }
   ],
   "source": [
    "plt.figure(figsize=(12, 8))\n",
    "plt.plot(rnn_f1_sores)\n",
    "plt.title('LSTM F1-Macro Scores over 10 epochs');"
   ]
  },
  {
   "cell_type": "markdown",
   "metadata": {},
   "source": [
    ">**Plot Title: Bi-GRU F1-Scores over 20 epochs**"
   ]
  },
  {
   "cell_type": "markdown",
   "metadata": {},
   "source": [
    ">Ther performance is very similar to Bi-LSTM. The last checkpoint saved around **0.7**, also ***co-incidentally produces similar results in the test set, but this result cannot be relied on.***  \n",
    "This is a clear indication of over-fitting."
   ]
  },
  {
   "cell_type": "code",
   "execution_count": 13,
   "metadata": {},
   "outputs": [
    {
     "name": "stdout",
     "output_type": "stream",
     "text": [
      "The macro-F1 on Test set is 0.6905722198852613\n"
     ]
    }
   ],
   "source": [
    "# test on the test set\n",
    "test_predictions = []\n",
    "# load the best model weights\n",
    "model.load_state_dict(best_model) \n",
    "\n",
    "with torch.no_grad(): # let pytorch know that no gradient should be computed\n",
    "    model.eval() # let the model know that it in test mode, i.e. no gradient and no dropout\n",
    "    predictions = []\n",
    "#     test_docs = test_docs\n",
    "#     test_labels = dev_labels\n",
    "\n",
    "    for idx in range(0,len(test_docs),batch_size):\n",
    "        y_pred = make_batch_prediction(\n",
    "            test_docs[idx:idx+batch_size], word_vectors, model, gpu)\n",
    "        pred_labels = [np.argmax(entry) for entry in y_pred.cpu().detach().numpy()]\n",
    "        predictions += pred_labels\n",
    "    pre, rec, f1, _ = precision_recall_fscore_support(test_labels, predictions,average='macro')\n",
    "    print('The macro-F1 on Test set is {}'.format(f1))"
   ]
  },
  {
   "cell_type": "markdown",
   "metadata": {},
   "source": [
    "<a id=\"5b\"></a>\n",
    "### **iii. CNN (Convolutional Neural Network**\n",
    "\n",
    "Next we are going to look at Convolutional Neural Networks and it's performance on pre-trained word embeddings.  \n",
    "Based on multiple combination of filters, the below architecture has shown the best performance.  \n",
    "The network has simple structure as shown below.\n",
    "- Word Embeddings of size 300 for each word are fed into the network\n",
    "- 128 Convolutions of size 2\n",
    "- 192 Convolutions of size 2\n",
    "- 192 Convolutions of size 3\n",
    "- 256 Convolutions of size 3\n",
    "- 512 Convolutions of size 4\n",
    "- Fully Connected Layer\n",
    "---"
   ]
  },
  {
   "cell_type": "code",
   "execution_count": 46,
   "metadata": {},
   "outputs": [
    {
     "name": "stdout",
     "output_type": "stream",
     "text": [
      "CNN_Clf(\n",
      "  (convs): ModuleList(\n",
      "    (0): Conv1d(300, 128, kernel_size=(2,), stride=(1,), padding=(1,))\n",
      "    (1): Conv1d(300, 192, kernel_size=(2,), stride=(1,), padding=(1,))\n",
      "    (2): Conv1d(300, 192, kernel_size=(3,), stride=(1,), padding=(2,))\n",
      "    (3): Conv1d(300, 256, kernel_size=(3,), stride=(1,), padding=(2,))\n",
      "    (4): Conv1d(300, 512, kernel_size=(4,), stride=(1,), padding=(3,))\n",
      "  )\n",
      "  (tanh): Tanh()\n",
      "  (dropout): Dropout(p=0.2, inplace=False)\n",
      "  (fc): Linear(in_features=1280, out_features=2, bias=True)\n",
      ")\n"
     ]
    }
   ],
   "source": [
    "# define functions that build mini-batches\n",
    "from nltk.tokenize import word_tokenize\n",
    "import numpy as np\n",
    "\n",
    "word_vec_dim = 300 # make sure this number matches the embedding you use\n",
    "\n",
    "# Out-of-vocabulary (OOV) words: words that are not included in the pre-trained embedding model\n",
    "# There exist many ways to vectorize OOV words, e.g. use a random vector to represent all OOV words\n",
    "# Feel free to search and employ other ways to vectorize OOV words\n",
    "\n",
    "\n",
    "def get_sent_word_vecs(word_vectors, sent_words, largest_len):\n",
    "    oov_vec = oov_vec = np.random.rand(word_vec_dim)\n",
    "    vecs = []\n",
    "    for ww in sent_words:\n",
    "        if ww in word_vectors:\n",
    "            vecs.append(word_vectors[ww])\n",
    "        else:\n",
    "            vecs.append(oov_vec)\n",
    "    for i in range(largest_len-len(sent_words)):\n",
    "        vecs.append([0.]*word_vec_dim)\n",
    "    return np.array(np.transpose(vecs))\n",
    "\n",
    "def build_mini_batch(sent_list, word_vectors):\n",
    "    tokenized_sents = [word_tokenize(ss.lower()) for ss in sent_list]\n",
    "    largest_len = np.max([len(tokens) for tokens in tokenized_sents])\n",
    "    text_vecs = []\n",
    "    for ts in tokenized_sents:\n",
    "        vv = get_sent_word_vecs(word_vectors, ts, largest_len)\n",
    "        text_vecs.append(vv)\n",
    "#     print('mini batch shape',np.array(text_vecs).shape)\n",
    "    return np.array(text_vecs)\n",
    "  \n",
    "# sanity check \n",
    "# build_mini_batch(['hello world!','HELLO','this is a long sentence!'], word_vectors)\n",
    "\n",
    "# define the CNN model\n",
    "\n",
    "import numpy as np\n",
    "import torch\n",
    "import torch.nn as nn\n",
    "\n",
    "class CNN_Clf(nn.Module):\n",
    "    def __init__(self, embd_dim, filter_size_list, filter_num_list, class_num, dp_rate=0.5, gpu=True):\n",
    "        super(CNN_Clf, self).__init__()\n",
    "        self.embd_dim = embd_dim\n",
    "        assert len(filter_size_list) == len(filter_num_list)\n",
    "        self.output_dim = class_num\n",
    "        \n",
    "        self.convs = self.build_convs(filter_size_list, filter_num_list, gpu)\n",
    "        self.tanh = nn.Tanh()\n",
    "        self.dropout = nn.Dropout(dp_rate)\n",
    "        self.fc = nn.Linear(np.sum(filter_num_list), class_num)\n",
    "        self.gpu = gpu\n",
    "        \n",
    "        if self.gpu:\n",
    "            self.to('cuda')\n",
    "            \n",
    "    def build_convs(self, f_sizes, f_nums, gpu):\n",
    "        convs = nn.ModuleList()\n",
    "        for fs, fn in zip(f_sizes, f_nums):\n",
    "            padding_size = fs-1\n",
    "            m = nn.Conv1d(self.embd_dim, fn, fs, padding=padding_size)\n",
    "            if gpu: m.to('cuda')\n",
    "            convs.append(m)\n",
    "        return convs\n",
    "        \n",
    "    def get_conv_output(self, input_matrix, conv, gpu):\n",
    "        # step 1: compute convolution\n",
    "#         print('input_matrix', input_matrix.shape)\n",
    "        assert input_matrix.shape[1] == self.embd_dim\n",
    "        if gpu:\n",
    "            input_matrix = input_matrix.to('cuda')\n",
    "        conv_output = conv(input_matrix)\n",
    "        # step 2: pass through an activation function \n",
    "        conv_relu = self.tanh(conv_output)\n",
    "        # step 3: max-over-time pooling\n",
    "        maxp = nn.MaxPool1d(conv_relu.shape[2])\n",
    "        maxp_output = maxp(conv_relu)\n",
    "        return maxp_output\n",
    "       \n",
    "    def forward(self, all_text_vectors):\n",
    "        cnn_repr = torch.tensor([])\n",
    "        if self.gpu: cnn_repr = cnn_repr.to('cuda')\n",
    "        for cv in self.convs:\n",
    "            cv_output = self.get_conv_output(all_text_vectors, cv, self.gpu)\n",
    "            cnn_repr = torch.cat((cnn_repr, cv_output), dim=1)\n",
    "        # print(cnn_repr.shape)\n",
    "        after_dp = self.dropout(cnn_repr.squeeze())\n",
    "        logit = self.fc(after_dp)\n",
    "        # the CrossEntropyLoss provided by pytorch includes softmax; so you do not need to include a softmax layer in your net\n",
    "        return logit\n",
    "\n",
    "dropout_rate = 0.2# dropout rate\n",
    "filter_sizes = [2, 2, 3, 3, 4]\n",
    "filter_nums = [128, 192, 192, 256, 512]\n",
    "\n",
    "gpu = True # whether use gpu to accelerate the training\n",
    "model = CNN_Clf(word_vec_dim, filter_sizes, filter_nums, len(label_dic), dropout_rate, gpu=gpu)\n",
    "loss_fnc = torch.nn.CrossEntropyLoss() # cross entropy loss\n",
    "print(model)\n",
    "# hyper parameters\n",
    "n_epochs = 50 # number of epoch (i.e. number of iterations)\n",
    "batch_size = 32\n",
    "lr = 0.001 # initial learning rate\n",
    "\n",
    "# init optimizer and scheduler (lr adjustor)\n",
    "import torch.optim as optim\n",
    "optimizer = optim.Adam(params=model.parameters(), lr=lr) # use Adam as the optimizer\n",
    "scheduler = torch.optim.lr_scheduler.StepLR(optimizer, step_size=1, gamma=0.95)\n",
    "# after each epoch, the learning rate is discounted to its 95%"
   ]
  },
  {
   "cell_type": "code",
   "execution_count": 47,
   "metadata": {},
   "outputs": [],
   "source": [
    "# training the CNN model\n",
    "\n",
    "best_f1 = -1.\n",
    "best_model = None\n",
    "import copy\n",
    "import numpy as np\n",
    "from sklearn.metrics import precision_recall_fscore_support\n",
    "from nltk.tokenize import word_tokenize\n",
    "from tqdm import tqdm_gui, tqdm_notebook, tqdm, notebook"
   ]
  },
  {
   "cell_type": "code",
   "execution_count": null,
   "metadata": {},
   "outputs": [],
   "source": [
    "cnn_f1_scores = []\n",
    "for epoch_i in range(n_epochs):\n",
    "    # the inner loop is over the batches in the dataset\n",
    "    model.train() # let pytorch know that gradients should be computed, so as to update the model\n",
    "    ep_loss = []\n",
    "    for idx in notebook.tqdm(range(0,len(train_docs),batch_size)):\n",
    "        # Step 0: Get the data\n",
    "        x_data = build_mini_batch(train_docs[idx:idx+batch_size], word_vectors)\n",
    "        if x_data.shape[0] == 0: continue # to avoid empty batch\n",
    "        y_target = torch.tensor([train_labels[idx:idx+batch_size]], dtype=torch.int64).squeeze()\n",
    "        if gpu:\n",
    "            y_target = y_target.to('cuda')\n",
    "        \n",
    "        # Step 1: Clear the gradients \n",
    "        optimizer.zero_grad()\n",
    "\n",
    "        # Step 2: Compute the forward pass of the model\n",
    "        x_tensor = torch.tensor(x_data, dtype=torch.float)\n",
    "        if gpu:\n",
    "            x_tensor = x_tensor.to('cuda')\n",
    "        y_pred = model(x_tensor)\n",
    "        if gpu: y_pred = y_pred.to('cuda')\n",
    "        pred_labels = [np.argmax(entry) for entry in y_pred.cpu().detach().numpy()]\n",
    "#         print('pred labels', pred_labels)\n",
    "#         print('true labels', y_target)\n",
    "\n",
    "        # Step 3: Compute the loss value that we wish to optimize\n",
    "        loss = loss_fnc(y_pred, y_target)\n",
    "        # print(loss)\n",
    "        ep_loss.append(loss.cpu().detach().numpy())\n",
    "\n",
    "        # Step 4: Propagate the loss signal backward\n",
    "        loss.backward()\n",
    "\n",
    "        # Step 5: Trigger the optimizer to perform one update\n",
    "        optimizer.step()\n",
    "#         print('\\n======batch {} ======'.format(idx))\n",
    "    \n",
    "    print('\\n======epoch {} loss======'.format(epoch_i),np.mean(ep_loss))\n",
    "    \n",
    "    # after each epoch, we can test the model's performance on the dev set\n",
    "    with torch.no_grad(): # let pytorch know that no gradient should be computed\n",
    "        model.eval() # let the model know that it in test mode, i.e. no gradient and no dropout\n",
    "        print('Running on Dev Set..')\n",
    "        dev_predictions = []\n",
    "        for idx in notebook.tqdm(range(0,len(dev_docs),batch_size)):\n",
    "            x_data = build_mini_batch(dev_docs[idx:idx+batch_size], word_vectors)\n",
    "            if x_data.shape[0] == 0: continue # to avoid empty batch\n",
    "            x_tensor = torch.tensor(x_data, dtype=torch.float)\n",
    "#             print(x_tensor.shape)\n",
    "            if gpu:\n",
    "                x_tensor = x_tensor.to('cuda')\n",
    "            y_pred = model(x_tensor)#.cpu().detach().numpy()\n",
    "            if gpu: y_pred = y_pred.to('cuda')\n",
    "            pred_labels = [np.argmax(entry) for entry in y_pred.cpu().detach().numpy()]\n",
    "#             pred_labels = [np.argmax(entry) for entry in y_pred]\n",
    "            dev_predictions += pred_labels\n",
    "            # print(pred_labels)\n",
    "        pre, rec, f1, _ = precision_recall_fscore_support(dev_labels, dev_predictions,average='macro')\n",
    "        cnn_f1_scores.append(f1)\n",
    "        print('\\n---> after epoch {} the macro-F1 on dev set is {}'.format(epoch_i+1, f1))\n",
    "#         for param_group in optimizer.param_groups:\n",
    "#             print('learning rate', param_group['lr'])\n",
    "        \n",
    "        # save the best model\n",
    "        if f1 > best_f1:\n",
    "            best_f1 = f1\n",
    "            best_model = copy.deepcopy(model.state_dict())\n",
    "            print('best model updated; new best macro-F1',f1)\n",
    "    \n",
    "    # (optional) adjust learning rate according to the scheduler\n",
    "    scheduler.step()"
   ]
  },
  {
   "cell_type": "code",
   "execution_count": 51,
   "metadata": {},
   "outputs": [
    {
     "data": {
      "image/png": "[encoded data removed]",
      "text/plain": [
       "<Figure size 864x576 with 1 Axes>"
      ]
     },
     "metadata": {},
     "output_type": "display_data"
    }
   ],
   "source": [
    "plt.figure(figsize=(12, 8))\n",
    "plt.plot(cnn_f1_scores)\n",
    "plt.title('CNN F1-Macro Scores over');"
   ]
  },
  {
   "cell_type": "markdown",
   "metadata": {},
   "source": [
    ">We can notice that there are some dips in the curve, but overall it becomes steady at **0.71.**\n",
    "Ther performance of the test set is also similar."
   ]
  },
  {
   "cell_type": "code",
   "execution_count": 54,
   "metadata": {},
   "outputs": [
    {
     "name": "stdout",
     "output_type": "stream",
     "text": [
      "The macro-F1 on dev set is 0.7153876065667518\n"
     ]
    }
   ],
   "source": [
    "# test on the test set\n",
    "test_predictions = []\n",
    "# load the best model weights\n",
    "model.load_state_dict(best_model) \n",
    "with torch.no_grad(): # let pytorch know that no gradient should be computed\n",
    "    model.eval() # let the model know that it in test mode, i.e. no gradient and no dropout\n",
    "    test_predictions = []\n",
    "    for idx in range(0,len(test_docs),batch_size):\n",
    "        x_data = build_mini_batch(test_docs[idx:idx+batch_size], word_vectors)\n",
    "        if x_data.shape[0] == 0: continue # to avoid empty batch\n",
    "        x_tensor = torch.tensor(x_data, dtype=torch.float)\n",
    "#             print(x_tensor.shape)\n",
    "        if gpu:\n",
    "            x_tensor = x_tensor.to('cuda')\n",
    "        y_pred = model(x_tensor)#.cpu().detach().numpy()\n",
    "        if gpu: y_pred = y_pred.to('cuda')\n",
    "        pred_labels = [np.argmax(entry) for entry in y_pred.cpu().detach().numpy()]\n",
    "#             pred_labels = [np.argmax(entry) for entry in y_pred]\n",
    "        test_predictions += pred_labels\n",
    "        # print(pred_labels)\n",
    "    pre, rec, f1, _ = precision_recall_fscore_support(test_labels, test_predictions, average='macro')\n",
    "    print('The macro-F1 on dev set is {}'.format(f1))"
   ]
  },
  {
   "cell_type": "markdown",
   "metadata": {},
   "source": [
    "From the above set of results, next we are going to look into combination of CNN & RNN network. To see if there's an improvement in the performance.\n",
    "\n",
    "<a id=\"5d\"></a>\n",
    "## **iv. Convolutional Recurrent Neural Network with pre-trained embeddings**\n",
    "\n",
    "\n",
    "Here we're going to use the previous GloVe embeddings and pass them through an LSTM Layer followed by some convolutions and fully connected.  \n",
    "The architecture is shown below:"
   ]
  },
  {
   "cell_type": "code",
   "execution_count": 17,
   "metadata": {},
   "outputs": [
    {
     "name": "stdout",
     "output_type": "stream",
     "text": [
      "ConvRNN_Classifier(\n",
      "  (rnn): LSTM(300, 300, batch_first=True, dropout=0.8)\n",
      "  (convs): ModuleList(\n",
      "    (0): Conv1d(300, 128, kernel_size=(2,), stride=(1,), padding=(1,))\n",
      "    (1): Conv1d(300, 192, kernel_size=(2,), stride=(1,), padding=(1,))\n",
      "    (2): Conv1d(300, 192, kernel_size=(3,), stride=(2,), padding=(2,))\n",
      "    (3): Conv1d(300, 256, kernel_size=(3,), stride=(2,), padding=(2,))\n",
      "    (4): Conv1d(300, 512, kernel_size=(4,), stride=(3,), padding=(3,))\n",
      "  )\n",
      "  (tanh): Tanh()\n",
      "  (dropout): Dropout(p=0.8, inplace=False)\n",
      "  (fc1): Linear(in_features=1280, out_features=96, bias=True)\n",
      "  (relu1): ReLU()\n",
      "  (fc2): Linear(in_features=96, out_features=48, bias=True)\n",
      "  (relu2): ReLU()\n",
      "  (fc3): Linear(in_features=48, out_features=2, bias=True)\n",
      ")\n"
     ]
    },
    {
     "name": "stderr",
     "output_type": "stream",
     "text": [
      "/home/archie/anaconda3/envs/pt/lib/python3.7/site-packages/torch/nn/modules/rnn.py:50: UserWarning: dropout option adds dropout after all but last recurrent layer, so non-zero dropout expects num_layers greater than 1, but got dropout=0.8 and num_layers=1\n",
      "  \"num_layers={}\".format(dropout, num_layers))\n"
     ]
    }
   ],
   "source": [
    "# then we define the RNN-based classifier\n",
    "import torch\n",
    "import torch.nn as nn\n",
    "\n",
    "class ConvRNN_Classifier(nn.Module):\n",
    "    def __init__(self, embd_dim, hidden_dim, model_type, cls_num, pooler_type, filter_size_list, filter_num_list, dropout, gpu):\n",
    "        super(ConvRNN_Classifier, self).__init__()\n",
    "        assert model_type in ['rnn','lstm','bilstm','gru']\n",
    "        assert pooler_type in ['max','avg']\n",
    "        self.embd_dim = embd_dim\n",
    "        self.hidden_dim = hidden_dim\n",
    "        if model_type == 'rnn':\n",
    "            self.rnn = nn.RNN(hidden_size=hidden_dim, batch_first=True, input_size=embd_dim, dropout=dropout)\n",
    "        elif model_type == 'lstm':\n",
    "            self.rnn = nn.LSTM(hidden_size=hidden_dim, batch_first=True, input_size=embd_dim, dropout=dropout)\n",
    "        elif model_type == 'bilstm':\n",
    "            self.rnn = nn.LSTM(hidden_size=hidden_dim, batch_first=True, input_size=embd_dim, \n",
    "                               bidirectional=True, dropout=dropout)\n",
    "        else: # model_type == 'gru'\n",
    "            self.rnn = nn.GRU(hidden_size=hidden_dim, batch_first=True, input_size=embd_dim, \n",
    "                              dropout=dropout, bidirectional=True, num_layers=2)\n",
    "        self.convs = self.build_convs(filter_size_list, filter_num_list, gpu)    \n",
    "        self.tanh = nn.Tanh()\n",
    "        self.dropout = nn.Dropout(dropout)\n",
    "        self.fc1 = nn.Linear(np.sum(filter_num_list), 96)\n",
    "        self.relu1 = nn.ReLU()\n",
    "        self.fc2 = nn.Linear(96, 48)\n",
    "        self.relu2 = nn.ReLU()\n",
    "        self.fc3 = nn.Linear(48, cls_num)\n",
    "        self.gpu = gpu\n",
    "        \n",
    "        # rnn type\n",
    "        \n",
    "        # map from rnn output to logits\n",
    "#         if model_type == 'linear':\n",
    "#             self.fc = nn.Linear(2*hidden_dim, cls_num)\n",
    "#         else:\n",
    "#             self.fc = nn.Linear(hidden_dim, cls_num)\n",
    "#         # pooler type\n",
    "#         self.pooler_type = pooler_type\n",
    "        # gpu or not\n",
    "        self.gpu = gpu\n",
    "        if gpu: self.to('cuda')\n",
    "            \n",
    "    def build_convs(self, f_sizes, f_nums, gpu):\n",
    "        convs = nn.ModuleList()\n",
    "        for fs, fn in zip(f_sizes, f_nums):\n",
    "            padding_size = fs-1\n",
    "            m = nn.Conv1d(self.hidden_dim, fn, fs, stride=padding_size,padding=padding_size)\n",
    "            if gpu: m.to('cuda')\n",
    "            convs.append(m)\n",
    "        return convs\n",
    "        \n",
    "    def get_conv_output(self, input_matrix, conv, gpu):\n",
    "        # step 1: compute convolution \n",
    "        input_matrix = torch.transpose(input_matrix, 1, 2)\n",
    "#         print('input_mat_conv', input_matrix.shape, 'self.embd_dim', self.embd_dim)\n",
    "        assert input_matrix.shape[1] == self.hidden_dim\n",
    "        if gpu:\n",
    "            input_matrix = input_matrix.to('cuda')\n",
    "        conv_output = conv(input_matrix)\n",
    "        # step 2: pass through an activation function \n",
    "        conv_relu = self.tanh(conv_output)\n",
    "        # step 3: max-over-time pooling\n",
    "        maxp = nn.MaxPool1d(conv_relu.shape[2])\n",
    "        maxp_output = maxp(conv_relu)\n",
    "        return maxp_output\n",
    "    \n",
    "    def forward(self, input_matrix):\n",
    "#         print('ip mat', input_matrix.shape)\n",
    "        token_num = input_matrix.shape[1]\n",
    "#         print('token_num', token_num)\n",
    "        hidden_vecs = self.rnn(input_matrix)[0]\n",
    "#         print('hidden', hidden_vecs.shape)\n",
    "#         print(hidden_vecs)\n",
    "        cnn_repr = torch.tensor([])\n",
    "        if self.gpu: cnn_repr = cnn_repr.to('cuda')\n",
    "        for cv in self.convs:\n",
    "            cv_output = self.get_conv_output(hidden_vecs, cv, self.gpu)\n",
    "            cnn_repr = torch.cat((cnn_repr, cv_output), dim=1)\n",
    "        # print(cnn_repr.shape)\n",
    "        \n",
    "#         cnn_repr = torch.tensor([])\n",
    "#         if self.gpu: cnn_repr = cnn_repr.to('cuda')\n",
    "#         for cv in self.convs:\n",
    "#             cv_output = self.get_conv_output(cnn_repr, cv, self.gpu)\n",
    "#             cnn_repr = torch.cat((cnn_repr, cv_output), dim=1)\n",
    "        \n",
    "        after_dp = self.dropout(cnn_repr.squeeze())\n",
    "        fc1_out = self.relu1(self.fc1(after_dp))\n",
    "        fc2_out = self.relu2(self.fc2(fc1_out))\n",
    "        logit = self.fc3(fc2_out)\n",
    "        # the CrossEntropyLoss provided by pytorch includes softmax; so you do not need to include a softmax layer in your net\n",
    "        return logit\n",
    "\n",
    "# define functions that build mini-batches\n",
    "from nltk.tokenize import word_tokenize\n",
    "import numpy as np\n",
    "\n",
    "embd_dim = 300\n",
    "hidden_dim = 300\n",
    "rnn_type = 'lstm'\n",
    "pooler_type = 'avg'\n",
    "dropout = 0.2\n",
    "\n",
    "# embd_dim = 300\n",
    "# hidden_dim = 150\n",
    "# rnn_type = 'gru'\n",
    "# pooler_type = 'max'\n",
    "# dropout = 0.1\n",
    "gpu = True\n",
    "\n",
    "def get_sent_word_vecs(word_vectors, sent_words, largest_len):\n",
    "    vecs = []\n",
    "    oov_vec = oov_vec = np.random.rand(embd_dim)\n",
    "    for ww in sent_words:\n",
    "        if ww in word_vectors:\n",
    "            vecs.append(word_vectors[ww])\n",
    "        else:\n",
    "            vecs.append(oov_vec)\n",
    "    \n",
    "    for i in range(largest_len-len(sent_words)):\n",
    "        vecs.append([0.]*word_vec_dim)\n",
    "        \n",
    "    return np.array(vecs)\n",
    "\n",
    "def build_mini_batch(sent_list, word_vectors):\n",
    "    tokenized_sents = [word_tokenize(ss.lower()) for ss in sent_list]\n",
    "    largest_len = np.max([len(tokens) for tokens in tokenized_sents])\n",
    "    text_vecs = []\n",
    "    for ts in tokenized_sents:\n",
    "        vv = get_sent_word_vecs(word_vectors, ts, largest_len)\n",
    "        text_vecs.append(vv)\n",
    "#     print('mini batch shape',np.array(text_vecs).shape)\n",
    "    return np.array(text_vecs)\n",
    "\n",
    "def make_batch_prediction(sent_list, word_vectors, model, use_gpu=False):\n",
    "    batch = build_mini_batch(sent_list, word_vectors)\n",
    "#     print(batch[0].shape)\n",
    "    batch_logits = torch.tensor([])\n",
    "    if use_gpu: batch_logits = batch_logits.to('cuda')\n",
    "    for i in range(batch.shape[0]):\n",
    "        input_sents = torch.from_numpy(batch[i]).float()\n",
    "        if use_gpu:\n",
    "            input_sents = input_sents.to('cuda')\n",
    "#         print(input_sents.unsqueeze(0).shape)\n",
    "        logits = model(input_sents.unsqueeze(0))\n",
    "        batch_logits = torch.cat( (batch_logits, logits) )\n",
    "    return batch_logits.view(batch.shape[0],-1)\n",
    "  \n",
    "# dropout_rate = 0.1 # dropout rate\n",
    "filter_sizes = [2, 2, 3, 3, 4]\n",
    "filter_nums = [128, 192, 192, 256, 512]\n",
    "\n",
    "    # sanity check \n",
    "model = ConvRNN_Classifier(embd_dim, hidden_dim, rnn_type, len(label_dic), pooler_type, filter_sizes, filter_nums, dropout, gpu)\n",
    "print(model)\n",
    "batch_pred = make_batch_prediction(\n",
    "    ['hello world!','hello','another test sentence this is'],\n",
    "    word_vectors, model, gpu)\n",
    "# print(batch_pred)"
   ]
  },
  {
   "cell_type": "code",
   "execution_count": 18,
   "metadata": {},
   "outputs": [
    {
     "name": "stdout",
     "output_type": "stream",
     "text": [
      "Train Labels Distribution %\n",
      " {0: 71.50334399534748, 1: 28.496656004652515} \n",
      "\n",
      "Dev Labels Distribution %\n",
      " {0: 73.31007413868295, 1: 26.68992586131705} \n",
      "\n",
      "Hold Out Labels Distribution %\n",
      " {0: 73.31007413868295, 1: 26.68992586131705} \n",
      "\n",
      "{0: 4918, 1: 1960}\n"
     ]
    },
    {
     "data": {
      "text/plain": [
       "(0.6992679951199675, 1.754591836734694)"
      ]
     },
     "execution_count": 18,
     "metadata": {},
     "output_type": "execute_result"
    }
   ],
   "source": [
    "train_ratio = pd.Series(train_labels).value_counts()\n",
    "train_ratio = train_ratio*100/train_ratio.sum()\n",
    "print('Train Labels Distribution %\\n', train_ratio.to_dict(), '\\n')\n",
    "test_ratio = pd.Series(dev_labels).value_counts()\n",
    "test_ratio = test_ratio*100/test_ratio.sum()\n",
    "print('Dev Labels Distribution %\\n', test_ratio.to_dict(), '\\n')\n",
    "\n",
    "test_ratio = pd.Series(test_labels).value_counts()\n",
    "test_ratio = test_ratio*100/test_ratio.sum()\n",
    "print('Hold Out Labels Distribution %\\n', test_ratio.to_dict(), '\\n')\n",
    "\n",
    "train_ratio = pd.Series(train_labels).value_counts()\n",
    "print(train_ratio.to_dict())\n",
    "\n",
    "weight_for_non_propaganda = (1 / train_ratio[1])*(train_ratio[0]+train_ratio[1])/2.0 \n",
    "weight_for_propaganda = (1 / train_ratio[0])*(train_ratio[0]+train_ratio[1])/2.0\n",
    "\n",
    "weight_for_propaganda, weight_for_non_propaganda"
   ]
  },
  {
   "cell_type": "code",
   "execution_count": null,
   "metadata": {},
   "outputs": [],
   "source": [
    "# dropout_rate = 0.5 # dropout rate\n",
    "# filter_sizes = [2, 3, 4]\n",
    "# filter_nums = [64]*len(filter_sizes)\n",
    "\n",
    "gpu = True # whether use gpu to accelerate the training\n",
    "model = ConvRNN_Classifier(embd_dim, hidden_dim, rnn_type, len(label_dic), pooler_type, filter_sizes, filter_nums, dropout, gpu)\n",
    "print(model)\n",
    "# loss_fnc = torch.nn.CrossEntropyLoss() # cross entropy loss\n",
    "loss_fnc = nn.CrossEntropyLoss(weight=torch.Tensor([weight_for_non_propaganda, weight_for_propaganda]).cuda())\n",
    "\n",
    "# hyper parameters\n",
    "n_epochs = 20 # number of epoch (i.e. number of iterations)\n",
    "batch_size = 64\n",
    "lr = 1e-3 # initial learning rate\n",
    "\n",
    "# init optimizer and scheduler (lr adjustor)\n",
    "import torch.optim as optim\n",
    "optimizer = optim.Adam(params=model.parameters(), lr=lr) # use Adam as the optimizer\n",
    "scheduler = torch.optim.lr_scheduler.StepLR(optimizer, step_size=1, gamma=0.95) # after each epoch, the learning rate is discounted to its 95%"
   ]
  },
  {
   "cell_type": "code",
   "execution_count": 20,
   "metadata": {},
   "outputs": [],
   "source": [
    "# training the CNN model\n",
    "\n",
    "best_f1 = -1.\n",
    "best_model = None\n",
    "import copy\n",
    "import numpy as np\n",
    "from sklearn.metrics import precision_recall_fscore_support\n",
    "from nltk.tokenize import word_tokenize\n",
    "from tqdm import tqdm_gui, tqdm_notebook, tqdm, notebook"
   ]
  },
  {
   "cell_type": "code",
   "execution_count": null,
   "metadata": {},
   "outputs": [],
   "source": [
    "crnn_f1 = []\n",
    "best_f1 = -1.\n",
    "best_model = None\n",
    "import copy\n",
    "import numpy as np\n",
    "from sklearn.metrics import precision_recall_fscore_support\n",
    "from nltk.tokenize import word_tokenize\n",
    "from tqdm import tqdm, notebook\n",
    "from torch.utils.tensorboard import SummaryWriter\n",
    "# writer = SummaryWriter()\n",
    "# counter = 0\n",
    "for epoch_i in range(n_epochs):\n",
    "    print('epoch {}/{}'.format(epoch_i, n_epochs))\n",
    "    # the inner loop is over the batches in the dataset\n",
    "    model.train() # let pytorch know that gradients should be computed, so as to update the model\n",
    "    ep_loss = []\n",
    "    train_predictions = []\n",
    "    for idx in notebook.tqdm(range(0,len(train_docs),batch_size)):\n",
    "#         counter += 1\n",
    "        # Step 0: Get the data\n",
    "        sents = train_docs[idx:idx+batch_size]\n",
    "        if len(sents) == 0: break\n",
    "        y_target = torch.tensor([train_labels[idx:idx+batch_size]], dtype=torch.int64).squeeze()\n",
    "        if gpu:\n",
    "            y_target = y_target.to('cuda')\n",
    "        \n",
    "        # Step 1: Clear the gradients \n",
    "        optimizer.zero_grad()\n",
    "\n",
    "        # Step 2: Compute the forward pass of the model\n",
    "        y_pred = make_batch_prediction(sents, word_vectors, model, gpu)\n",
    "        pred_labels = [np.argmax(entry) for entry in y_pred.cpu().detach().numpy()]\n",
    "        train_predictions += pred_labels\n",
    "        # print('pred labels', pred_labels)\n",
    "        # print('true labels', y_target)\n",
    "\n",
    "        # Step 3: Compute the loss value that we wish to optimize\n",
    "        loss = loss_fnc(y_pred, y_target)\n",
    "        # print(loss)\n",
    "        ep_loss.append(loss.cpu().detach().numpy())\n",
    "\n",
    "        # Step 4: Propagate the loss signal backward\n",
    "        loss.backward()\n",
    "        \n",
    "        # Step 4+: clip the gradient, to avoid gradient explosion\n",
    "        nn.utils.clip_grad_value_(model.parameters(), clip_value=3.)\n",
    "\n",
    "        # Step 5: Trigger the optimizer to perform one update\n",
    "        optimizer.step()\n",
    "    \n",
    "    pre, rec, f1, _ = precision_recall_fscore_support(train_labels, train_predictions, average='weighted')\n",
    "#     writer.add_scalar('F-1/train', f1, counter)\n",
    "    print('\\n======epoch {} loss======'.format(epoch_i),np.mean(ep_loss))\n",
    "    \n",
    "    # after each epoch, we can test the model's performance on the dev set\n",
    "    with torch.no_grad(): # let pytorch know that no gradient should be computed\n",
    "        model.eval() # let the model know that it in test mode, i.e. no gradient and no dropout\n",
    "        predictions = []\n",
    "        test_docs = dev_docs\n",
    "        test_labels = dev_labels\n",
    "        \n",
    "        for idx in range(0,len(test_docs),batch_size):\n",
    "            y_pred = make_batch_prediction(\n",
    "                test_docs[idx:idx+batch_size], word_vectors, model, gpu)\n",
    "            pred_labels = [np.argmax(entry) for entry in y_pred.cpu().detach().numpy()]\n",
    "            predictions += pred_labels\n",
    "        pre, rec, f1, _ = precision_recall_fscore_support(test_labels, predictions,average='weighted')\n",
    "        print('\\n---> after epoch {} the macro-F1 on dev set is {}'.format(epoch_i, f1))\n",
    "        crnn_f1.append(f1)\n",
    "        for param_group in optimizer.param_groups:\n",
    "            print('learning rate', param_group['lr'])\n",
    "#         writer.add_scalar('F-1/test', f1, counter)\n",
    "\n",
    "        # save the best model\n",
    "        if f1 > best_f1:\n",
    "            best_f1 = f1\n",
    "            best_model = copy.deepcopy(model.state_dict())\n",
    "            print('best model updated; new best macro-F1',f1)\n",
    "    \n",
    "    # (optional) adjust learning rate according to the scheduler\n",
    "    scheduler.step()"
   ]
  },
  {
   "cell_type": "code",
   "execution_count": 35,
   "metadata": {},
   "outputs": [
    {
     "data": {
      "image/png": "[encoded data removed]",
      "text/plain": [
       "<Figure size 864x576 with 1 Axes>"
      ]
     },
     "metadata": {},
     "output_type": "display_data"
    }
   ],
   "source": [
    "plt.figure(figsize=(12, 8))\n",
    "plt.plot(crnn_f1)\n",
    "plt.title('Conv-RNN pre-trained embeddings F1-Macro Scores over 20 epochs');"
   ]
  },
  {
   "cell_type": "markdown",
   "metadata": {},
   "source": [
    ">From the above plot we can see that this network is much more stable compared to the rest."
   ]
  },
  {
   "cell_type": "code",
   "execution_count": 33,
   "metadata": {},
   "outputs": [
    {
     "name": "stdout",
     "output_type": "stream",
     "text": [
      "The macro-F1 on dev set is 0.679910858219928\n"
     ]
    }
   ],
   "source": [
    "# test on the test set\n",
    "test_predictions = []\n",
    "# load the best model weights\n",
    "model.load_state_dict(best_model) \n",
    "\n",
    "with torch.no_grad(): # let pytorch know that no gradient should be computed\n",
    "    model.eval() # let the model know that it in test mode, i.e. no gradient and no dropout\n",
    "    predictions = []\n",
    "#     test_docs = test_docs\n",
    "#     test_labels = dev_labels\n",
    "\n",
    "    for idx in range(0,len(test_docs),batch_size):\n",
    "        y_pred = make_batch_prediction(\n",
    "            test_docs[idx:idx+batch_size], word_vectors, model, gpu)\n",
    "        pred_labels = [np.argmax(entry) for entry in y_pred.cpu().detach().numpy()]\n",
    "        predictions += pred_labels\n",
    "    pre, rec, f1, _ = precision_recall_fscore_support(test_labels, predictions,average='macro')\n",
    "    print('The macro-F1 on dev set is {}'.format(f1))"
   ]
  },
  {
   "cell_type": "markdown",
   "metadata": {},
   "source": [
    "<a id=\"5e\"></a>\n",
    "## **v. Custom Embeddings Convolutional Recurrent Neural Network**\n",
    "\n",
    "\n",
    "As of now we were using pre-trained word embeddings.\n",
    "Now we are going to see the performance of the previous network and the word embeddings will be trained from scratch.\n",
    "\n",
    "In order to do so, we need to follow the below steps before training:\n",
    "- *Create unique id's for each word*\n",
    "- *Convert the sequence of words into their corresponding id form*"
   ]
  },
  {
   "cell_type": "code",
   "execution_count": 58,
   "metadata": {},
   "outputs": [
    {
     "name": "stdout",
     "output_type": "stream",
     "text": [
      "Raw Text\n",
      "**********\n",
      "major new study homeschooling spikes due to school violence farleft bias we have a daughter still in high school and three in grade school\n",
      "----------------------------------------------------------------------------------------------------\n",
      "After Conversion\n",
      "*****************\n",
      "[   0    0    0    0    0    0    0    0    0    0    0    0    0    0\n",
      "    0    0    0    0    0    0    0    0    0    0    0    0    0    0\n",
      "    0    0    0    0    0    0    0    0    0    0    0    0    0    0\n",
      "    0    0    0    0    0    0    0    0    0    0    0    0    0    0\n",
      "    0    0    0    0    0    0    0    0    0    0    0    0    0    0\n",
      "    0    0    0    0    0    0    0    0    0    0    0    0    0    0\n",
      "    0    0    0    0    0    0    0    0    0    0    0    0    0    0\n",
      "  870   68  871  489 1728  609    2  128  309 1697 1214   29   31    6\n",
      " 1456  236    4  596  128    5  496    4 4495  128]\n"
     ]
    }
   ],
   "source": [
    "print('Raw Text')\n",
    "print('*'*10)\n",
    "print(df_joined_padded_text.iloc[0][0])\n",
    "print('-'*100)\n",
    "print('After Conversion')\n",
    "print('*'*17)\n",
    "print(df_joined_padded_text.iloc[0][1])"
   ]
  },
  {
   "cell_type": "code",
   "execution_count": 30,
   "metadata": {},
   "outputs": [],
   "source": [
    "from sklearn.model_selection import train_test_split\n",
    "X_train, X_test, y_train, y_test = train_test_split(df_joined_padded_text, df_label, test_size=0.4, random_state=42)"
   ]
  },
  {
   "cell_type": "code",
   "execution_count": 32,
   "metadata": {},
   "outputs": [
    {
     "name": "stdout",
     "output_type": "stream",
     "text": [
      "Training set size 6878\n",
      "Test set size 4586\n"
     ]
    }
   ],
   "source": [
    "print('Training set size {}'.format(len(X_train)))\n",
    "print('Test set size {}'.format(len(X_test)))"
   ]
  },
  {
   "cell_type": "code",
   "execution_count": 33,
   "metadata": {},
   "outputs": [],
   "source": [
    "X_dev, X_ho, y_dev, y_ho = train_test_split(X_test, y_test, test_size=0.5, random_state=518123)"
   ]
  },
  {
   "cell_type": "code",
   "execution_count": 34,
   "metadata": {},
   "outputs": [
    {
     "name": "stdout",
     "output_type": "stream",
     "text": [
      "Training set size 2293\n",
      "Test set size 2293\n"
     ]
    }
   ],
   "source": [
    "print('Training set size {}'.format(len(X_dev)))\n",
    "print('Test set size {}'.format(len(X_ho)))"
   ]
  },
  {
   "cell_type": "code",
   "execution_count": 35,
   "metadata": {},
   "outputs": [
    {
     "name": "stdout",
     "output_type": "stream",
     "text": [
      "Train Labels Distribution %\n",
      " {0: 71.41610933410875, 1: 28.583890665891246} \n",
      "\n",
      "Dev Labels Distribution %\n",
      " {0: 73.13563017880506, 1: 26.86436982119494} \n",
      "\n",
      "Hold Out Labels Distribution %\n",
      " {0: 73.13563017880506, 1: 26.86436982119494} \n",
      "\n"
     ]
    }
   ],
   "source": [
    "train_ratio = pd.Series(y_train).value_counts()\n",
    "train_ratio = train_ratio*100/train_ratio.sum()\n",
    "print('Train Labels Distribution %\\n', train_ratio.to_dict(), '\\n')\n",
    "test_ratio = pd.Series(y_dev).value_counts()\n",
    "test_ratio = test_ratio*100/test_ratio.sum()\n",
    "print('Dev Labels Distribution %\\n', test_ratio.to_dict(), '\\n')\n",
    "\n",
    "test_ratio = pd.Series(y_dev).value_counts()\n",
    "test_ratio = test_ratio*100/test_ratio.sum()\n",
    "print('Hold Out Labels Distribution %\\n', test_ratio.to_dict(), '\\n')"
   ]
  },
  {
   "cell_type": "code",
   "execution_count": 38,
   "metadata": {},
   "outputs": [],
   "source": [
    "# then we define the RNN-based classifier\n",
    "import torch\n",
    "import torch.nn as nn\n",
    "\n",
    "class ConvRNN_Classifier(nn.Module):\n",
    "    def __init__(self, vocab_size, embd_dim, hidden_dim, model_type, cls_num, pooler_type, filter_size_list, filter_num_list, dropout, gpu):\n",
    "        super(ConvRNN_Classifier, self).__init__()\n",
    "        assert model_type in ['rnn','lstm','bilstm','gru']\n",
    "        assert pooler_type in ['max','avg']\n",
    "        \n",
    "        self.embd_dim = embd_dim\n",
    "        self.hidden_dim = hidden_dim\n",
    "        \n",
    "        self.embedding = nn.Embedding(vocab_size, embd_dim)\n",
    "        \n",
    "        # rnn type\n",
    "        if model_type == 'rnn':\n",
    "            self.rnn = nn.RNN(hidden_size=hidden_dim, batch_first=True, input_size=embd_dim, dropout=dropout)\n",
    "        elif model_type == 'lstm':\n",
    "            self.rnn = nn.LSTM(hidden_size=hidden_dim, batch_first=True, input_size=embd_dim, dropout=dropout)\n",
    "        elif model_type == 'bilstm':\n",
    "            self.rnn = nn.LSTM(hidden_size=hidden_dim, batch_first=True, input_size=embd_dim, \n",
    "                               bidirectional=True, dropout=dropout)\n",
    "        else: # model_type == 'gru'\n",
    "            self.rnn = nn.GRU(hidden_size=hidden_dim, batch_first=True, input_size=embd_dim, \n",
    "                              dropout=dropout, bidirectional=True, num_layers=2)\n",
    "        \n",
    "        self.convs = self.build_convs(filter_size_list, filter_num_list, gpu)\n",
    "        self.tanh = nn.Tanh()\n",
    "        self.dropout = nn.Dropout(dropout)\n",
    "        self.fc1 = nn.Linear(np.sum(filter_num_list), 96)\n",
    "        self.relu1 = nn.ReLU()\n",
    "        self.fc2 = nn.Linear(96, 48)\n",
    "        self.relu2 = nn.ReLU()\n",
    "        self.fc3 = nn.Linear(48, cls_num)\n",
    "        self.gpu = gpu\n",
    "                \n",
    "        self.relu = nn.ReLU()\n",
    "        \n",
    "        self.gpu = gpu\n",
    "        if gpu: self.to('cuda')\n",
    "            \n",
    "    def build_convs(self, f_sizes, f_nums, gpu):\n",
    "        convs = nn.ModuleList()\n",
    "        for fs, fn in zip(f_sizes, f_nums):\n",
    "            padding_size = fs-1\n",
    "            m = nn.Conv1d(self.hidden_dim, fn, fs, stride=padding_size,padding=padding_size)\n",
    "            if gpu: m.to('cuda')\n",
    "            convs.append(m)\n",
    "        return convs\n",
    "        \n",
    "    def get_conv_output(self, input_matrix, conv, gpu):\n",
    "        # step 1: compute convolution \n",
    "        input_matrix = torch.transpose(input_matrix, 1, 2)\n",
    "#         print('input_mat_conv', input_matrix.shape, 'self.embd_dim', self.embd_dim)\n",
    "        assert input_matrix.shape[1] == self.hidden_dim\n",
    "        if gpu:\n",
    "            input_matrix = input_matrix.to('cuda')\n",
    "        conv_output = conv(input_matrix)\n",
    "        # step 2: pass through an activation function \n",
    "        conv_relu = self.tanh(conv_output)\n",
    "        # step 3: max-over-time pooling\n",
    "        maxp = nn.MaxPool1d(conv_relu.shape[2])\n",
    "        maxp_output = maxp(conv_relu)\n",
    "        return maxp_output\n",
    "    \n",
    "    def forward(self, input_matrix):\n",
    "#         print('ip mat', input_matrix.shape)\n",
    "        token_num = input_matrix.shape[1]\n",
    "#         print('token_num', token_num)\n",
    "        embedding = self.embedding(input_matrix)\n",
    "        hidden_vecs = self.rnn(embedding)[0]\n",
    "#         print('hidden', hidden_vecs.shape)\n",
    "#         print(hidden_vecs)\n",
    "        cnn_repr = torch.tensor([])\n",
    "        if self.gpu: cnn_repr = cnn_repr.to('cuda')\n",
    "        for cv in self.convs:\n",
    "            cv_output = self.get_conv_output(hidden_vecs, cv, self.gpu)\n",
    "            cnn_repr = torch.cat((cnn_repr, cv_output), dim=1)\n",
    "        # print(cnn_repr.shape)\n",
    "        \n",
    "#         cnn_repr = torch.tensor([])\n",
    "#         if self.gpu: cnn_repr = cnn_repr.to('cuda')\n",
    "#         for cv in self.convs:\n",
    "#             cv_output = self.get_conv_output(cnn_repr, cv, self.gpu)\n",
    "#             cnn_repr = torch.cat((cnn_repr, cv_output), dim=1)\n",
    "        \n",
    "        after_dp = self.dropout(cnn_repr.squeeze())\n",
    "        fc1_out = self.relu1(self.fc1(after_dp))\n",
    "        fc2_out = self.relu2(self.fc2(fc1_out))\n",
    "        logit = self.fc3(fc2_out)\n",
    "        # the CrossEntropyLoss provided by pytorch includes softmax; so you do not need to include a softmax layer in your net\n",
    "        return logit"
   ]
  },
  {
   "cell_type": "code",
   "execution_count": null,
   "metadata": {},
   "outputs": [],
   "source": [
    "# define functions that build mini-batches\n",
    "from nltk.tokenize import word_tokenize\n",
    "import numpy as np\n",
    "\n",
    "embd_dim = 500\n",
    "hidden_dim = 300\n",
    "rnn_type = 'lstm'\n",
    "pooler_type = 'max'\n",
    "dropout = 0.2\n",
    "\n",
    "# embd_dim = 300\n",
    "# hidden_dim = 150\n",
    "# rnn_type = 'gru'\n",
    "# pooler_type = 'max'\n",
    "# dropout = 0.1\n",
    "gpu = True\n",
    "\n",
    "def make_batch_prediction(batch, model, use_gpu=False):\n",
    "    batch_logits = torch.tensor([])\n",
    "    if use_gpu: \n",
    "        batch_logits = batch_logits.to('cuda')\n",
    "    for i in range(batch.shape[0]):\n",
    "        input_sents = torch.from_numpy(batch[i]).float()\n",
    "        if use_gpu:\n",
    "            input_sents = input_sents.to('cuda')\n",
    "#         print(input_sents.unsqueeze(0).shape)\n",
    "        logits = model(input_sents.unsqueeze(0).long())\n",
    "        batch_logits = torch.cat( (batch_logits, logits) )\n",
    "    return batch_logits.view(batch.shape[0],-1)\n",
    "  \n",
    "dropout_rate = 0.2# dropout rate\n",
    "filter_sizes = [2, 2, 3, 3, 4]\n",
    "filter_nums = [128, 192, 192, 256, 512]\n",
    "vocab_size = len(word_to_id)+1\n",
    "    # sanity check \n",
    "model = ConvRNN_Classifier(vocab_size, embd_dim, hidden_dim, rnn_type, len(label_dic), pooler_type, filter_sizes, filter_nums, dropout, gpu)\n",
    "print(model)\n",
    "batch_pred = make_batch_prediction(\n",
    "    np.array(X_train)[:3], model, gpu)\n",
    "# print(batch_pred)"
   ]
  },
  {
   "cell_type": "markdown",
   "metadata": {},
   "source": [
    "### **Architecture**\n",
    "\n",
    "The netowrk consists of an embedding layer, followed by a LSTM layer. \n",
    "Multuple convolutions are taken from the LSTM Layer.   \n",
    "They are concatenated and fed to a deep fully connected layer.  \n",
    "The architecture of the network is shown below:"
   ]
  },
  {
   "cell_type": "code",
   "execution_count": 40,
   "metadata": {},
   "outputs": [
    {
     "name": "stdout",
     "output_type": "stream",
     "text": [
      "ConvRNN_Classifier(\n",
      "  (embedding): Embedding(16950, 500)\n",
      "  (rnn): LSTM(500, 300, batch_first=True, dropout=0.2)\n",
      "  (convs): ModuleList(\n",
      "    (0): Conv1d(300, 128, kernel_size=(2,), stride=(1,), padding=(1,))\n",
      "    (1): Conv1d(300, 192, kernel_size=(2,), stride=(1,), padding=(1,))\n",
      "    (2): Conv1d(300, 192, kernel_size=(3,), stride=(2,), padding=(2,))\n",
      "    (3): Conv1d(300, 256, kernel_size=(3,), stride=(2,), padding=(2,))\n",
      "    (4): Conv1d(300, 512, kernel_size=(4,), stride=(3,), padding=(3,))\n",
      "  )\n",
      "  (tanh): Tanh()\n",
      "  (dropout): Dropout(p=0.2, inplace=False)\n",
      "  (fc1): Linear(in_features=1280, out_features=96, bias=True)\n",
      "  (relu1): ReLU()\n",
      "  (fc2): Linear(in_features=96, out_features=48, bias=True)\n",
      "  (relu2): ReLU()\n",
      "  (fc3): Linear(in_features=48, out_features=2, bias=True)\n",
      "  (relu): ReLU()\n",
      ")\n"
     ]
    }
   ],
   "source": [
    "# dropout_rate = 0.5 # dropout rate\n",
    "# filter_sizes = [2, 3, 4]\n",
    "# filter_nums = [64]*len(filter_sizes)\n",
    "\n",
    "gpu = True # whether use gpu to accelerate the training\n",
    "model = ConvRNN_Classifier(vocab_size, embd_dim, hidden_dim, rnn_type, len(label_dic), pooler_type, filter_sizes, filter_nums, dropout, gpu)\n",
    "print(model)\n",
    "# loss_fnc = torch.nn.CrossEntropyLoss() # cross entropy loss\n",
    "loss_fnc = nn.CrossEntropyLoss(weight=torch.Tensor([weight_for_non_propaganda, weight_for_propaganda]).cuda())\n",
    "\n",
    "# hyper parameters\n",
    "n_epochs = 20 # number of epoch (i.e. number of iterations)\n",
    "batch_size = 32\n",
    "lr = 1e-3 # initial learning rate\n",
    "\n",
    "# init optimizer and scheduler (lr adjustor)\n",
    "import torch.optim as optim\n",
    "optimizer = optim.Adam(params=model.parameters(), lr=lr) # use Adam as the optimizer\n",
    "scheduler = torch.optim.lr_scheduler.StepLR(optimizer, step_size=2, gamma=0.95) # after each epoch, the learning rate is discounted to its 95%"
   ]
  },
  {
   "cell_type": "code",
   "execution_count": null,
   "metadata": {
    "scrolled": true
   },
   "outputs": [],
   "source": [
    "best_f1 = -1.\n",
    "best_model = None\n",
    "import copy\n",
    "import numpy as np\n",
    "from sklearn.metrics import precision_recall_fscore_support\n",
    "from nltk.tokenize import word_tokenize\n",
    "from tqdm import tqdm, notebook\n",
    "from torch.utils.tensorboard import SummaryWriter\n",
    "f1_scores = []\n",
    "for epoch_i in range(n_epochs):\n",
    "    print('epoch {}/{}'.format(epoch_i, n_epochs))\n",
    "    # the inner loop is over the batches in the dataset\n",
    "    model.train() # let pytorch know that gradients should be computed, so as to update the model\n",
    "    ep_loss = []\n",
    "    train_predictions = []\n",
    "    for idx in notebook.tqdm(range(0,len(np.array(X_train)),batch_size)):\n",
    "        # Step 0: Get the data\n",
    "        sents = np.array(X_train)[idx:idx+batch_size]\n",
    "        if len(sents) == 0: break\n",
    "        y_target = torch.tensor([np.array(y_train)[idx:idx+batch_size]], dtype=torch.int64).squeeze()\n",
    "        if gpu:\n",
    "            y_target = y_target.to('cuda')\n",
    "        \n",
    "        # Step 1: Clear the gradients \n",
    "        optimizer.zero_grad()\n",
    "\n",
    "        # Step 2: Compute the forward pass of the model\n",
    "        y_pred = make_batch_prediction(sents, model, gpu)\n",
    "        pred_labels = [np.argmax(entry) for entry in y_pred.cpu().detach().numpy()]\n",
    "        train_predictions += pred_labels\n",
    "        # print('pred labels', pred_labels)\n",
    "        # print('true labels', y_target)\n",
    "\n",
    "        # Step 3: Compute the loss value that we wish to optimize\n",
    "        loss = loss_fnc(y_pred, y_target)\n",
    "        # print(loss)\n",
    "        ep_loss.append(loss.cpu().detach().numpy())\n",
    "\n",
    "        # Step 4: Propagate the loss signal backward\n",
    "        loss.backward()\n",
    "        \n",
    "        # Step 4+: clip the gradient, to avoid gradient explosion\n",
    "        nn.utils.clip_grad_value_(model.parameters(), clip_value=3.)\n",
    "\n",
    "        # Step 5: Trigger the optimizer to perform one update\n",
    "        optimizer.step()\n",
    "    \n",
    "    pre, rec, f1, _ = precision_recall_fscore_support(y_train, train_predictions, average='weighted')\n",
    "#     writer.add_scalar('F-1/train', f1, counter)\n",
    "    print('\\n======epoch {} loss======'.format(epoch_i),np.mean(ep_loss))\n",
    "    \n",
    "    # after each epoch, we can test the model's performance on the dev set\n",
    "    with torch.no_grad(): # let pytorch know that no gradient should be computed\n",
    "        model.eval() # let the model know that it in test mode, i.e. no gradient and no dropout\n",
    "        predictions = []\n",
    "#         test_docs = dev_docs\n",
    "#         test_labels = dev_labels\n",
    "        \n",
    "        for idx in range(0,len(np.array(X_dev)),batch_size):\n",
    "            y_pred = make_batch_prediction(np.array(X_dev)[idx:idx+batch_size], model, gpu)\n",
    "            pred_labels = [np.argmax(entry) for entry in y_pred.cpu().detach().numpy()]\n",
    "            predictions += pred_labels\n",
    "        pre, rec, f1, _ = precision_recall_fscore_support(y_dev, predictions,average='weighted')\n",
    "        print('\\n---> after epoch {} the macro-F1 on dev set is {}'.format(epoch_i, f1))\n",
    "        \n",
    "        f1_scores.append(f1)\n",
    "#         for param_group in optimizer.param_groups:\n",
    "#             print('learning rate', param_group['lr'])\n",
    "#         writer.add_scalar('F-1/test', f1, counter)\n",
    "\n",
    "        # save the best model\n",
    "        if f1 > best_f1:\n",
    "            best_f1 = f1\n",
    "            best_model = copy.deepcopy(model.state_dict())\n",
    "            print('best model updated; new best macro-F1',f1)\n",
    "    \n",
    "    # (optional) adjust learning rate according to the scheduler\n",
    "    scheduler.step()"
   ]
  },
  {
   "cell_type": "code",
   "execution_count": 45,
   "metadata": {},
   "outputs": [
    {
     "data": {
      "image/png": "[encoded data removed]",
      "text/plain": [
       "<Figure size 864x576 with 1 Axes>"
      ]
     },
     "metadata": {},
     "output_type": "display_data"
    }
   ],
   "source": [
    "plt.figure(figsize=(12, 8))\n",
    "plt.plot(f1_scores)\n",
    "plt.title('ConvRNN Custom Embedding F1-Macro Scores over 20 epochs');"
   ]
  },
  {
   "cell_type": "markdown",
   "metadata": {},
   "source": [
    ">From the above plot, we can see that there's a gradual rise of the validation f1-score and it stabilizes around **0.72** after few epochs. Even though the performance in the hold-out test set is comparatively bad, we'll be using this model as this has higher generalization than the rest."
   ]
  },
  {
   "cell_type": "code",
   "execution_count": 48,
   "metadata": {},
   "outputs": [
    {
     "name": "stdout",
     "output_type": "stream",
     "text": [
      "the macro-F1 on dev set is 0.6393255763843999\n"
     ]
    }
   ],
   "source": [
    "# test on the test set\n",
    "test_predictions = []\n",
    "# load the best model weights\n",
    "model.load_state_dict(best_model) \n",
    "\n",
    "with torch.no_grad(): # let pytorch know that no gradient should be computed\n",
    "    model.eval() # let the model know that it in test mode, i.e. no gradient and no dropout\n",
    "    predictions = []\n",
    "#     test_docs = test_docs\n",
    "#     test_labels = dev_labels\n",
    "\n",
    "    for idx in range(0,len(np.array(X_ho)),batch_size):\n",
    "        y_pred = make_batch_prediction(np.array(X_ho)[idx:idx+batch_size], model, gpu)\n",
    "        pred_labels = [np.argmax(entry) for entry in y_pred.cpu().detach().numpy()]\n",
    "        predictions += pred_labels\n",
    "    pre, rec, f1, _ = precision_recall_fscore_support(np.array(y_ho), predictions,average='macro')\n",
    "    print('the macro-F1 on dev set is {}'.format(f1))"
   ]
  },
  {
   "cell_type": "markdown",
   "metadata": {},
   "source": [
    "<a id=\"6\"></a>\n",
    "## **6. Final Model Build**\n",
    "\n",
    "We'll train the network with a 80% - 20% split data and save it as a pickle file."
   ]
  },
  {
   "cell_type": "code",
   "execution_count": null,
   "metadata": {},
   "outputs": [],
   "source": [
    "plt.figure(figsize=(12, 8))\n",
    "plt.plot(f1_scores)\n",
    "plt.title('ConvRNN Custom Embedding F1-Macro Scores over 25 epochs');plt.figure(figsize=(12, 8))\n",
    "plt.plot(f1_scores)\n",
    "plt.title('ConvRNN Custom Embedding F1-Macro Scores over 25 epochs');plt.figure(figsize=(12, 8))\n",
    "plt.plot(f1_scores)\n",
    "plt.title('ConvRNN Custom Embedding F1-Macro Scores over 25 epochs');from sklearn.model_selection import train_test_split\n",
    "X_train, X_test, y_train, y_test = train_test_split(df_joined_padded_text, df_label, test_size=0.2, random_state=518123)\n",
    "\n",
    "X_train[:2]\n",
    "\n",
    "print('Training set size {}'.format(len(X_train)))\n",
    "print('Test set size {}'.format(len(X_test)))\n",
    "\n",
    "# X_dev, X_ho, y_dev, y_ho = train_test_split(X_test, y_test, test_size=0.5, random_state=518123)\n",
    "\n",
    "# print('Training set size {}'.format(len(X_dev)))\n",
    "# print('Test set size {}'.format(len(X_ho)))\n",
    "\n",
    "train_ratio = pd.Series(y_train).value_counts()\n",
    "train_ratio = train_ratio*100/train_ratio.sum()\n",
    "print('Train Labels Distribution %\\n', train_ratio.to_dict(), '\\n')\n",
    "test_ratio = pd.Series(y_test).value_counts()\n",
    "test_ratio = test_ratio*100/test_ratio.sum()\n",
    "print('Dev Labels Distribution %\\n', test_ratio.to_dict(), '\\n')\n",
    "\n",
    "# test_ratio = pd.Series(y_dev).value_counts()\n",
    "# test_ratio = test_ratio*100/test_ratio.sum()\n",
    "# print('Hold Out Labels Distribution %\\n', test_ratio.to_dict(), '\\n')\n",
    "\n",
    "train_ratio = pd.Series(y_train).value_counts()\n",
    "train_ratio.to_dict()\n",
    "\n",
    "weight_for_non_propaganda = (1 / train_ratio[1])*(train_ratio[0]+train_ratio[1])/2.0 \n",
    "weight_for_propaganda = (1 / train_ratio[0])*(train_ratio[0]+train_ratio[1])/2.0\n",
    "\n",
    "weight_for_propaganda, weight_for_non_propaganda\n",
    "\n",
    "# then we define the RNN-based classifier\n",
    "import torch\n",
    "import torch.nn as nn\n",
    "\n",
    "class ConvRNN_Classifier(nn.Module):\n",
    "    def __init__(self, vocab_size, embd_dim, hidden_dim, model_type, cls_num, pooler_type, filter_size_list, filter_num_list, dropout, gpu):\n",
    "        super(ConvRNN_Classifier, self).__init__()\n",
    "        assert model_type in ['rnn','lstm','bilstm','gru']\n",
    "        assert pooler_type in ['max','avg']\n",
    "        \n",
    "        self.embd_dim = embd_dim\n",
    "        self.hidden_dim = hidden_dim\n",
    "        \n",
    "        self.embedding = nn.Embedding(vocab_size, embd_dim)\n",
    "        \n",
    "        # rnn type\n",
    "        if model_type == 'rnn':\n",
    "            self.rnn = nn.RNN(hidden_size=hidden_dim, batch_first=True, input_size=embd_dim, dropout=dropout)\n",
    "        elif model_type == 'lstm':\n",
    "            self.rnn = nn.LSTM(hidden_size=hidden_dim, batch_first=True, input_size=embd_dim, dropout=dropout)\n",
    "        elif model_type == 'bilstm':\n",
    "            self.rnn = nn.LSTM(hidden_size=hidden_dim, batch_first=True, input_size=embd_dim, \n",
    "                               bidirectional=True, dropout=dropout)\n",
    "        else: # model_type == 'gru'\n",
    "            self.rnn = nn.GRU(hidden_size=hidden_dim, batch_first=True, input_size=embd_dim, \n",
    "                              dropout=dropout, bidirectional=True, num_layers=2)\n",
    "        \n",
    "        self.convs = self.build_convs(filter_size_list, filter_num_list, gpu)\n",
    "        self.tanh = nn.Tanh()\n",
    "        self.dropout = nn.Dropout(dropout)\n",
    "        self.fc1 = nn.Linear(np.sum(filter_num_list), 96)\n",
    "        self.relu1 = nn.ReLU()\n",
    "        self.fc2 = nn.Linear(96, 48)\n",
    "        self.relu2 = nn.ReLU()\n",
    "        self.fc3 = nn.Linear(48, cls_num)\n",
    "        self.gpu = gpu\n",
    "                \n",
    "        self.relu = nn.ReLU()\n",
    "        \n",
    "        self.gpu = gpu\n",
    "        if gpu: self.to('cuda')\n",
    "            \n",
    "    def build_convs(self, f_sizes, f_nums, gpu):\n",
    "        convs = nn.ModuleList()\n",
    "        for fs, fn in zip(f_sizes, f_nums):\n",
    "            padding_size = fs-1\n",
    "            m = nn.Conv1d(self.hidden_dim, fn, fs, stride=padding_size,padding=padding_size)\n",
    "            if gpu: m.to('cuda')\n",
    "            convs.append(m)\n",
    "        return convs\n",
    "        \n",
    "    def get_conv_output(self, input_matrix, conv, gpu):\n",
    "        # step 1: compute convolution \n",
    "        input_matrix = torch.transpose(input_matrix, 1, 2)\n",
    "#         print('input_mat_conv', input_matrix.shape, 'self.embd_dim', self.embd_dim)\n",
    "        assert input_matrix.shape[1] == self.hidden_dim\n",
    "        if gpu:\n",
    "            input_matrix = input_matrix.to('cuda')\n",
    "        conv_output = conv(input_matrix)\n",
    "        # step 2: pass through an activation function \n",
    "        conv_relu = self.tanh(conv_output)\n",
    "        # step 3: max-over-time pooling\n",
    "        maxp = nn.MaxPool1d(conv_relu.shape[2])\n",
    "        maxp_output = maxp(conv_relu)\n",
    "        return maxp_output\n",
    "    \n",
    "    def forward(self, input_matrix):\n",
    "#         print('ip mat', input_matrix.shape)\n",
    "        token_num = input_matrix.shape[1]\n",
    "#         print('token_num', token_num)\n",
    "        embedding = self.embedding(input_matrix)\n",
    "        hidden_vecs = self.rnn(embedding)[0]\n",
    "#         print('hidden', hidden_vecs.shape)\n",
    "#         print(hidden_vecs)\n",
    "        cnn_repr = torch.tensor([])\n",
    "        if self.gpu: cnn_repr = cnn_repr.to('cuda')\n",
    "        for cv in self.convs:\n",
    "            cv_output = self.get_conv_output(hidden_vecs, cv, self.gpu)\n",
    "            cnn_repr = torch.cat((cnn_repr, cv_output), dim=1)\n",
    "        # print(cnn_repr.shape)\n",
    "        \n",
    "#         cnn_repr = torch.tensor([])\n",
    "#         if self.gpu: cnn_repr = cnn_repr.to('cuda')\n",
    "#         for cv in self.convs:\n",
    "#             cv_output = self.get_conv_output(cnn_repr, cv, self.gpu)\n",
    "#             cnn_repr = torch.cat((cnn_repr, cv_output), dim=1)\n",
    "        \n",
    "        after_dp = self.dropout(cnn_repr.squeeze())\n",
    "        fc1_out = self.relu1(self.fc1(after_dp))\n",
    "        fc2_out = self.relu2(self.fc2(fc1_out))\n",
    "        logit = self.fc3(fc2_out)\n",
    "        # the CrossEntropyLoss provided by pytorch includes softmax; so you do not need to include a softmax layer in your net\n",
    "        return logit\n",
    "\n",
    "# define functions that build mini-batches\n",
    "from nltk.tokenize import word_tokenize\n",
    "import numpy as np\n",
    "\n",
    "embd_dim = 500\n",
    "hidden_dim = 300\n",
    "rnn_type = 'lstm'\n",
    "pooler_type = 'max'\n",
    "dropout = 0.2\n",
    "\n",
    "# embd_dim = 300\n",
    "# hidden_dim = 150\n",
    "# rnn_type = 'gru'\n",
    "# pooler_type = 'max'\n",
    "# dropout = 0.1\n",
    "gpu = True\n",
    "\n",
    "def make_batch_prediction(batch, model, use_gpu=False):\n",
    "    batch_logits = torch.tensor([])\n",
    "    if use_gpu: \n",
    "        batch_logits = batch_logits.to('cuda')\n",
    "    for i in range(batch.shape[0]):\n",
    "        input_sents = torch.from_numpy(batch[i]).float()\n",
    "        if use_gpu:\n",
    "            input_sents = input_sents.to('cuda')\n",
    "#         print(input_sents.unsqueeze(0).shape)\n",
    "        logits = model(input_sents.unsqueeze(0).long())\n",
    "        batch_logits = torch.cat( (batch_logits, logits) )\n",
    "    return batch_logits.view(batch.shape[0],-1)\n",
    "  \n",
    "dropout_rate = 0.2# dropout rate\n",
    "filter_sizes = [2, 2, 3, 3, 4]\n",
    "filter_nums = [128, 192, 192, 256, 512]\n",
    "vocab_size = len(word_to_id)+1\n",
    "    # sanity check \n",
    "model = ConvRNN_Classifier(vocab_size, embd_dim, hidden_dim, rnn_type, len(label_dic), pooler_type, filter_sizes, filter_nums, dropout, gpu)\n",
    "print(model)\n",
    "batch_pred = make_batch_prediction(\n",
    "    np.array(X_train)[:3], model, gpu)\n",
    "# print(batch_pred)\n",
    "\n",
    "# dropout_rate = 0.5 # dropout rate\n",
    "# filter_sizes = [2, 3, 4]\n",
    "# filter_nums = [64]*len(filter_sizes)\n",
    "\n",
    "gpu = True # whether use gpu to accelerate the training\n",
    "model = ConvRNN_Classifier(vocab_size, embd_dim, hidden_dim, rnn_type, len(label_dic), pooler_type, filter_sizes, filter_nums, dropout, gpu)\n",
    "print(model)\n",
    "# loss_fnc = torch.nn.CrossEntropyLoss() # cross entropy loss\n",
    "loss_fnc = nn.CrossEntropyLoss(weight=torch.Tensor([weight_for_non_propaganda, weight_for_propaganda]).cuda())\n",
    "\n",
    "# hyper parameters\n",
    "n_epochs = 25 # number of epoch (i.e. number of iterations)\n",
    "batch_size = 32\n",
    "lr = 1e-3 # initial learning rate\n",
    "\n",
    "# init optimizer and scheduler (lr adjustor)\n",
    "import torch.optim as optim\n",
    "optimizer = optim.Adam(params=model.parameters(), lr=lr) # use Adam as the optimizer\n",
    "scheduler = torch.optim.lr_scheduler.StepLR(optimizer, step_size=2, gamma=0.95) # after each epoch, the learning rate is discounted to its 95%\n",
    "\n",
    "# training the CNN model\n",
    "\n",
    "best_f1 = -1.\n",
    "best_model = None\n",
    "import copy\n",
    "import numpy as np\n",
    "from sklearn.metrics import precision_recall_fscore_support\n",
    "from nltk.tokenize import word_tokenize\n",
    "from tqdm import tqdm_gui, tqdm_notebook, tqdm, notebook\n",
    "\n",
    "best_f1 = -1.\n",
    "best_model = None\n",
    "import copy\n",
    "import numpy as np\n",
    "from sklearn.metrics import precision_recall_fscore_support\n",
    "from nltk.tokenize import word_tokenize\n",
    "from tqdm import tqdm, notebook\n",
    "from torch.utils.tensorboard import SummaryWriter\n",
    "f1_scores = []\n",
    "for epoch_i in range(n_epochs):\n",
    "    print('epoch {}/{}'.format(epoch_i, n_epochs))\n",
    "    # the inner loop is over the batches in the dataset\n",
    "    model.train() # let pytorch know that gradients should be computed, so as to update the model\n",
    "    ep_loss = []\n",
    "    train_predictions = []\n",
    "    for idx in notebook.tqdm(range(0,len(np.array(X_train)),batch_size)):\n",
    "        # Step 0: Get the data\n",
    "        sents = np.array(X_train)[idx:idx+batch_size]\n",
    "        if len(sents) == 0: break\n",
    "        y_target = torch.tensor([np.array(y_train)[idx:idx+batch_size]], dtype=torch.int64).squeeze()\n",
    "        if gpu:\n",
    "            y_target = y_target.to('cuda')\n",
    "        \n",
    "        # Step 1: Clear the gradients \n",
    "        optimizer.zero_grad()\n",
    "\n",
    "        # Step 2: Compute the forward pass of the model\n",
    "        y_pred = make_batch_prediction(sents, model, gpu)\n",
    "        pred_labels = [np.argmax(entry) for entry in y_pred.cpu().detach().numpy()]\n",
    "        train_predictions += pred_labels\n",
    "        # print('pred labels', pred_labels)\n",
    "        # print('true labels', y_target)\n",
    "\n",
    "        # Step 3: Compute the loss value that we wish to optimize\n",
    "        loss = loss_fnc(y_pred, y_target)\n",
    "        # print(loss)\n",
    "        ep_loss.append(loss.cpu().detach().numpy())\n",
    "\n",
    "        # Step 4: Propagate the loss signal backward\n",
    "        loss.backward()\n",
    "        \n",
    "        # Step 4+: clip the gradient, to avoid gradient explosion\n",
    "        nn.utils.clip_grad_value_(model.parameters(), clip_value=3.)\n",
    "\n",
    "        # Step 5: Trigger the optimizer to perform one update\n",
    "        optimizer.step()\n",
    "    \n",
    "    pre, rec, f1, _ = precision_recall_fscore_support(y_train, train_predictions, average='weighted')\n",
    "#     writer.add_scalar('F-1/train', f1, counter)\n",
    "    print('\\n======epoch {} loss======'.format(epoch_i),np.mean(ep_loss))\n",
    "    \n",
    "    # after each epoch, we can test the model's performance on the dev set\n",
    "    with torch.no_grad(): # let pytorch know that no gradient should be computed\n",
    "        model.eval() # let the model know that it in test mode, i.e. no gradient and no dropout\n",
    "        predictions = []\n",
    "#         test_docs = dev_docs\n",
    "#         test_labels = dev_labels\n",
    "        \n",
    "        for idx in range(0,len(np.array(X_test)),batch_size):\n",
    "            y_pred = make_batch_prediction(np.array(X_test)[idx:idx+batch_size], model, gpu)\n",
    "            pred_labels = [np.argmax(entry) for entry in y_pred.cpu().detach().numpy()]\n",
    "            predictions += pred_labels\n",
    "        pre, rec, f1, _ = precision_recall_fscore_support(y_test, predictions,average='weighted')\n",
    "        print('\\n---> after epoch {} the macro-F1 on dev set is {}'.format(epoch_i, f1))\n",
    "        \n",
    "        f1_scores.append(f1)\n",
    "#         for param_group in optimizer.param_groups:\n",
    "#             print('learning rate', param_group['lr'])\n",
    "#         writer.add_scalar('F-1/test', f1, counter)\n",
    "\n",
    "        # save the best model\n",
    "        if f1 > best_f1:\n",
    "            best_f1 = f1\n",
    "            best_model = copy.deepcopy(model.state_dict())\n",
    "            print('best model updated; new best macro-F1',f1)\n",
    "    \n",
    "    # (optional) adjust learning rate according to the scheduler\n",
    "    scheduler.step()"
   ]
  },
  {
   "cell_type": "code",
   "execution_count": 48,
   "metadata": {},
   "outputs": [
    {
     "data": {
      "image/png": "[encoded data removed]",
      "text/plain": [
       "<Figure size 864x576 with 1 Axes>"
      ]
     },
     "metadata": {},
     "output_type": "display_data"
    }
   ],
   "source": [
    "plt.figure(figsize=(12, 8))\n",
    "plt.plot(f1_scores)\n",
    "plt.title('ConvRNN Custom Embedding F1-Macro Scores over 25 epochs');"
   ]
  },
  {
   "cell_type": "markdown",
   "metadata": {},
   "source": [
    ">We see a similar performance in the final trianig process as well."
   ]
  },
  {
   "cell_type": "code",
   "execution_count": null,
   "metadata": {},
   "outputs": [],
   "source": [
    "import pickle\n",
    "\n",
    "    'input_dim': embd_dim,\n",
    "    'hidden_dim':hidden_dim,\n",
    "    'dropout_rate': dropout,\n",
    "    'neural_weights': best_model,\n",
    "    'word_to_id':word_to_id,\n",
    "    'model_type':rnn_type,\n",
    "    'filter_nums': filter_nums,\n",
    "    'filter_sizes': filter_sizes,\n",
    "    'pooler': pooler_type,\n",
    "    'vocab_size': vocab_size,\n",
    "    'num_class':2,\n",
    "    'gpu':False,\n",
    "    'max_seq_length':seq_lengths.max()\n",
    "    \n",
    "}\n",
    "save_path = open(\"cw2_crnn_custom_final.pickle\",\"wb\")\n",
    "pickle.dump(all_info_want_to_save, save_path)\n",
    "save_path.close()"
   ]
  },
  {
   "cell_type": "code",
   "execution_count": 1,
   "metadata": {},
   "outputs": [
    {
     "data": {
      "text/html": [
       "<script>\n",
       "code_show=true; \n",
       "function code_toggle() {\n",
       " if (code_show){\n",
       " $('div.input').hide();\n",
       " } else {\n",
       " $('div.input').show();\n",
       " }\n",
       " code_show = !code_show\n",
       "} \n",
       "$( document ).ready(code_toggle);\n",
       "</script>\n",
       "<form action=\"javascript:code_toggle()\"><input type=\"submit\" value=\"Hide/Show Code.\"></form>"
      ],
      "text/plain": [
       "<IPython.core.display.HTML object>"
      ]
     },
     "execution_count": 1,
     "metadata": {},
     "output_type": "execute_result"
    }
   ],
   "source": [
    "from IPython.display import HTML\n",
    "\n",
    "HTML('''<script>\n",
    "code_show=true; \n",
    "function code_toggle() {\n",
    " if (code_show){\n",
    " $('div.input').hide();\n",
    " } else {\n",
    " $('div.input').show();\n",
    " }\n",
    " code_show = !code_show\n",
    "} \n",
    "$( document ).ready(code_toggle);\n",
    "</script>\n",
    "<form action=\"javascript:code_toggle()\"><input type=\"submit\" value=\"Hide/Show Code.\"></form>''')"
   ]
  },
  {
   "cell_type": "code",
   "execution_count": null,
   "metadata": {},
   "outputs": [],
   "source": []
  }
 ],
 "metadata": {
  "kernelspec": {
   "display_name": "Python 3 (ipykernel)",
   "language": "python",
   "name": "python3"
  },
  "language_info": {
   "codemirror_mode": {
    "name": "ipython",
    "version": 3
   },
   "file_extension": ".py",
   "mimetype": "text/x-python",
   "name": "python",
   "nbconvert_exporter": "python",
   "pygments_lexer": "ipython3",
   "version": "3.8.13"
  }
 },
 "nbformat": 4,
 "nbformat_minor": 4
}
